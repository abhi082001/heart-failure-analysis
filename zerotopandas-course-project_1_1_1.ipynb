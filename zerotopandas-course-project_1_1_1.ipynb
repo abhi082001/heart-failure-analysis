{
 "cells": [
  {
   "cell_type": "markdown",
   "metadata": {},
   "source": [
    "### Data Analysis with Python: Zero to Pandas - Course Project Guidelines\n",
    "#### (remove this cell before submission)\n",
    "\n",
    "Make submissions here:  https://jovian.ml/learn/data-analysis-with-python-zero-to-pandas/assignment/course-project\n",
    "\n",
    "This is the starter notebook for the course project for [Data Analysis with Python: Zero to Pandas](https://jovian.ml/learn/data-analysis-with-python-zero-to-pandas). For the course project, you will pick a real-world dataset of your choice and apply the concepts learned in this course to perform exploratory data analysis. Use this starter notebook as an outline for your project (you can also start with an empty new notebook). Focus on documentation and presentation - this Jupyter notebook will also serve as a project report, so make sure to include detailed explanations whererver possible using Markdown cells.\n",
    "\n",
    "#### Step 1: Select a real-world dataset \n",
    "\n",
    "- Find and download an interesting real-world dataset (see the Recommended Datasets section below for ideas). \n",
    "\n",
    "- The dataset should contain tabular data (rowsn & columns), preferably in CSV/JSON/XLS or other formats that can be read using Pandas. If it's not in a compatible format, you may have to write some code to convert it to a desired format.\n",
    "- The dataset should contain at least 3 columns and 150 rows of data. You can also combine data from multiple sources to create a large enough dataset.\n",
    "\n",
    "\n",
    "#### Step 2: Perform data preparation & cleaning\n",
    "\n",
    "- Load the dataset into a data frame using Pandas\n",
    "- Explore the number of rows & columns, ranges of values etc.\n",
    "- Handle missing, incorrect and invalid data\n",
    "- Perform any additional steps (parsing dates, creating additional columns, merging multiple dataset etc.)\n",
    "\n",
    "\n",
    "#### Step 3: Perform exploratory Analysis & Visualization\n",
    "\n",
    "- Compute the mean, sum, range and other interesting statistics for numeric columns\n",
    "- Explore distributions of numeric columns using histograms etc.\n",
    "- Explore relationship between columns using scatter plots, bar charts etc.\n",
    "- Make a note of interesting insights from the exploratory analysis\n",
    "\n",
    "#### Step 4: Ask & answer questions about the data\n",
    "\n",
    "- Ask at least 5 interesting questions about your dataset\n",
    "- Answer the questions either by computing the results using Numpy/Pandas or by plotting graphs using Matplotlib/Seaborn\n",
    "- Create new columns, merge multiple dataset and perform grouping/aggregation wherever necessary\n",
    "- Wherever you're using a library function from Pandas/Numpy/Matplotlib etc. explain briefly what it does\n",
    "\n",
    "\n",
    "#### Step 5: Summarize your inferences & write a conclusion\n",
    "\n",
    "- Write a summary of what you've learned from the analysis\n",
    "- Include interesting insights and graphs from previous sections\n",
    "- Share ideas for future work on the same topic using other relevant datasets\n",
    "- Share links to resources you found useful during your analysis\n",
    "\n",
    "\n",
    "#### Step 6: Make a submission & share your work\n",
    "\n",
    "- Upload your notebook to your Jovian.ml profile using `jovian.commit`.\n",
    "- **Make a submission here**: https://jovian.ml/learn/data-analysis-with-python-zero-to-pandas/assignment/course-project\n",
    "- Share your work on the forum: https://jovian.ml/forum/t/course-project-on-exploratory-data-analysis-discuss-and-share-your-work/11684\n",
    "\n",
    "- Browse through projects shared by other participants and give feedback\n",
    "\n",
    "\n",
    "#### (Optional) Step 7: Write a blog post\n",
    "\n",
    "- A blog post is a great way to present and showcase your work.  \n",
    "- Sign up on [Medium.com](https://medium.com) to write a blog post for your project.\n",
    "- Copy over the explanations from your Jupyter notebook into your blog post, and [embed code cells & outputs](https://medium.com/jovianml/share-and-embed-jupyter-notebooks-online-with-jovian-ml-df709a03064e)\n",
    "- Check out the Jovian.ml Medium publication for inspiration: https://medium.com/jovianml\n",
    "\n",
    "\n",
    "\n",
    "### Recommended Datasets\n",
    "\n",
    "\n",
    "Use the following resources for finding interesting datasets:\n",
    "\n",
    "- [Recommended datasets for the course project](https://jovian.ml/forum/t/recommended-datasets-for-course-project/11711)\n",
    "- [Kaggle datasets](https://www.kaggle.com/datasets)\n",
    "- [UCI Machine Learning Repository](http://archive.ics.uci.edu/ml/index.php)\n",
    "- [awesome-public-datasets](https://github.com/awesomedata/awesome-public-datasets)\n",
    "- [Google Dataset Search](https://datasetsearch.research.google.com)\n",
    "- [Your personal data from online services](https://www.popsci.com/download-digital-personal-information/)\n",
    "\n",
    "\n",
    "\n",
    "### Example Projects\n",
    "\n",
    "Refer to these projects for inspiration:\n",
    "\n",
    "* [Analyzing your browser history using Pandas & Seaborn](https://medium.com/free-code-camp/understanding-my-browsing-pattern-using-pandas-and-seaborn-162b97e33e51) by Kartik Godawat\n",
    "\n",
    "* [WhatsApp Chat Data Analysis](https://jovian.ml/PrajwalPrashanth/whatsapp-chat-data-analysis) by Prajwal Prashanth\n",
    "\n",
    "* [Analyzing Covid-19 data using Pandas](https://jovian.ml/aakashns/python-pandas-data-analysis) \n",
    "\n",
    "* [Understanding the Gender Divide in Data Science Roles](https://medium.com/datadriveninvestor/exploratory-data-analysis-eda-understanding-the-gender-divide-in-data-science-roles-9faa5da44f5b) by Aakanksha N S\n",
    "\n",
    "* [2019 State of Javscript Survey Results](https://2019.stateofjs.com/demographics/)\n",
    "\n",
    "* [2020 Stack Overflow Developer Survey Results](https://insights.stackoverflow.com/survey/2020)\n",
    "\n",
    "\n",
    "### Evaluation Criteria\n",
    "\n",
    "Your submission will be evaluated using the following criteria:\n",
    "\n",
    "* Dataset must contain at least 3 columns and 150 rows of data\n",
    "* You must ask and answer at least 5 questions about the dataset\n",
    "* Your submission must include at least 5 visualizations (graphs)\n",
    "* Your submission must include explanations using markdown cells, apart from the code.\n",
    "* Your work must not be plagiarized i.e. copy-pasted for somewhere else.\n",
    "\n",
    "\n",
    "**NOTE**: Remove this cell containing the instructions before making your submission. You can do using the \"Edit > Delete Cells\" menu option."
   ]
  },
  {
   "cell_type": "markdown",
   "metadata": {},
   "source": [
    "#  Explanatory data analysis of heart failure cases\n",
    "\n",
    "The data set I have chosen is about the causes and death events of heart failure cases. Cardiovascular disease contains 12 causes as mentioned in the columns of the dataset of which I have chosen 10 most important columns. I have obtained this dataset from kaggle link:[https://www.kaggle.com/tanersekmen/heart-failure-visualization-predict ]. I will be using pandas, seaborn and matplotlib for visualizing and analysing the data.\n"
   ]
  },
  {
   "cell_type": "code",
   "execution_count": 1,
   "metadata": {},
   "outputs": [],
   "source": [
    "project_name = \"Analysis of deaths of heart patients\" "
   ]
  },
  {
   "cell_type": "code",
   "execution_count": 2,
   "metadata": {},
   "outputs": [],
   "source": [
    "!pip install jovian --upgrade -q"
   ]
  },
  {
   "cell_type": "code",
   "execution_count": 3,
   "metadata": {},
   "outputs": [
    {
     "data": {
      "application/javascript": [
       "if (window.IPython && IPython.notebook.kernel) IPython.notebook.kernel.execute('jovian.utils.jupyter.get_notebook_name_saved = lambda: \"' + IPython.notebook.notebook_name + '\"')"
      ],
      "text/plain": [
       "<IPython.core.display.Javascript object>"
      ]
     },
     "metadata": {},
     "output_type": "display_data"
    }
   ],
   "source": [
    "import jovian"
   ]
  },
  {
   "cell_type": "code",
   "execution_count": 4,
   "metadata": {},
   "outputs": [
    {
     "data": {
      "application/javascript": [
       "window.require && require([\"base/js/namespace\"],function(Jupyter){Jupyter.notebook.save_checkpoint()})"
      ],
      "text/plain": [
       "<IPython.core.display.Javascript object>"
      ]
     },
     "metadata": {},
     "output_type": "display_data"
    },
    {
     "name": "stdout",
     "output_type": "stream",
     "text": [
      "[jovian] Attempting to save notebook..\n",
      "[jovian] Please enter your API key ( from https://jovian.ai/ ):\n",
      "API KEY: ········\n",
      "[jovian] Updating notebook \"ch19b034/analysis-of-deaths-of-heart-patients\" on https://jovian.ai/\n",
      "[jovian] Uploading notebook..\n",
      "[jovian] Capturing environment..\n"
     ]
    },
    
  {
   "cell_type": "markdown",
   "metadata": {},
   "source": [
    "## Data Preparation and Cleaning\n",
    "\n",
    "This step of data ananlysis is to clean the data and prepare a proper data frame."
   ]
  },
  {
   "cell_type": "code",
   "execution_count": 5,
   "metadata": {},
   "outputs": [],
   "source": [
    "import os"
   ]
  },
  {
   "cell_type": "code",
   "execution_count": 6,
   "metadata": {},
   "outputs": [
    {
     "data": {
      "text/plain": [
       "['.anaconda',\n",
       " '.conda',\n",
       " '.condarc',\n",
       " '.dotnet',\n",
       " '.idlerc',\n",
       " '.ipynb_checkpoints',\n",
       " '.ipython',\n",
       " '.jovian',\n",
       " '.jovianrc',\n",
       " '.jupyter',\n",
       " '.matplotlib',\n",
       " '.popsql.json',\n",
       " '.PyCharmCE2019.3',\n",
       " '.pylint.d',\n",
       " '.templateengine',\n",
       " '.vscode',\n",
       " '3D Objects',\n",
       " 'ALCN28WW',\n",
       " 'Anaconda3',\n",
       " 'AppData',\n",
       " 'Application Data',\n",
       " 'Arrays in python.ipynb',\n",
       " 'Basics of Python for Data Science -Intern shalla.ipynb',\n",
       " 'Benchmark solution 1 .ipynb',\n",
       " 'Benchmark solution.ipynb',\n",
       " 'Benchmark_solution[1].ipynb',\n",
       " 'CardioGoodFitness - Descriptive Statistics.ipynb',\n",
       " 'Contacts',\n",
       " 'Cookies',\n",
       " 'data',\n",
       " 'datasets_727551_1263738_heart_failure_clinical_records_dataset.csv',\n",
       " 'debug.log',\n",
       " 'Decorators.ipynb',\n",
       " 'DEEP LEARNING JOVIAN.ML.ipynb',\n",
       " 'Documents',\n",
       " 'Downloads',\n",
       " 'employee.log',\n",
       " 'Envs',\n",
       " 'f727dd25-f7fe-4871-9748-410d6ccc39c1.ipynb',\n",
       " 'Factorial of a number.ipynb',\n",
       " 'Favorites',\n",
       " 'Files in python.ipynb',\n",
       " 'First python code.ipynb',\n",
       " 'Functions in python',\n",
       " 'FUNCTIONS.ipynb',\n",
       " 'Generators.ipynb',\n",
       " 'Great Learning python for ML .ipynb',\n",
       " 'Guessing Game.ipynb',\n",
       " 'IntelGraphicsProfiles',\n",
       " 'IPL data analysis.ipynb',\n",
       " 'Lambda Functions.ipynb',\n",
       " 'Links',\n",
       " 'Local and Global Variables.ipynb',\n",
       " 'Local Settings',\n",
       " 'MicrosoftEdgeBackups',\n",
       " 'ML IITTP.ipynb',\n",
       " 'ML.ipynb',\n",
       " 'Music',\n",
       " 'My Documents',\n",
       " 'NetHood',\n",
       " 'NTUSER.DAT',\n",
       " 'ntuser.dat.LOG1',\n",
       " 'ntuser.dat.LOG2',\n",
       " 'NTUSER.DAT{c918a137-8a2c-11ea-a75b-d8477d54d370}.TxR.0.regtrans-ms',\n",
       " 'NTUSER.DAT{c918a137-8a2c-11ea-a75b-d8477d54d370}.TxR.1.regtrans-ms',\n",
       " 'NTUSER.DAT{c918a137-8a2c-11ea-a75b-d8477d54d370}.TxR.2.regtrans-ms',\n",
       " 'NTUSER.DAT{c918a137-8a2c-11ea-a75b-d8477d54d370}.TxR.blf',\n",
       " 'NTUSER.DAT{c918a138-8a2c-11ea-a75b-d8477d54d370}.TM.blf',\n",
       " 'NTUSER.DAT{c918a138-8a2c-11ea-a75b-d8477d54d370}.TMContainer00000000000000000001.regtrans-ms',\n",
       " 'NTUSER.DAT{c918a138-8a2c-11ea-a75b-d8477d54d370}.TMContainer00000000000000000002.regtrans-ms',\n",
       " 'ntuser.ini',\n",
       " 'OneDrive',\n",
       " 'Oops in python.ipynb',\n",
       " 'Packages in python.ipynb',\n",
       " 'Palindrome detection .ipynb',\n",
       " 'Passengers Information.ipynb',\n",
       " 'Pattern.ipynb',\n",
       " 'Pictures',\n",
       " 'Predicting Stock Prices .ipynb',\n",
       " 'Predictive Modelling and basics of Machine Learning - Intern shalla.ipynb',\n",
       " 'PrintHood',\n",
       " 'Problem Statement (6).zip',\n",
       " 'projects',\n",
       " 'PycharmProjects',\n",
       " 'Pythogrn triplet.ipynb',\n",
       " 'python',\n",
       " 'Python_Coding_Challenge.ipynb',\n",
       " 'Python_Coding_Challenge_Solution.ipynb',\n",
       " 'R-4.0.0',\n",
       " 'reading.ipynb',\n",
       " 'Recent',\n",
       " 'Saved Games',\n",
       " 'Searches',\n",
       " 'SendTo',\n",
       " 'source',\n",
       " 'Star Pattern1.ipynb',\n",
       " 'Star Pattern2.ipynb',\n",
       " 'Start Menu',\n",
       " 'Statistics_Coding_Challenge (1).ipynb',\n",
       " 'Statistics_Coding_Challenge_Solution.ipynb',\n",
       " 'submission.csv',\n",
       " 'Telusko.ipynb',\n",
       " 'Templates',\n",
       " 'test_kaggel.csv',\n",
       " 'Tower of Hanoil.ipynb',\n",
       " 'train.csv_kaggel',\n",
       " 'Untitled10.ipynb',\n",
       " 'Untitled11.ipynb',\n",
       " 'Untitled12.ipynb',\n",
       " 'Untitled13.ipynb',\n",
       " 'Untitled14.ipynb',\n",
       " 'Untitled15.ipynb',\n",
       " 'Untitled16.ipynb',\n",
       " 'Untitled17.ipynb',\n",
       " 'Untitled2.ipynb',\n",
       " 'Untitled3.ipynb',\n",
       " 'Untitled4.ipynb',\n",
       " 'Untitled5.ipynb',\n",
       " 'Untitled6.ipynb',\n",
       " 'Untitled7.ipynb',\n",
       " 'Untitled8.ipynb',\n",
       " 'Untitled9.ipynb',\n",
       " 'Videos',\n",
       " 'zerotopandas-course-project_1_1_1.ipynb']"
      ]
     },
     "execution_count": 6,
     "metadata": {},
     "output_type": "execute_result"
    }
   ],
   "source": [
    "os.listdir('.')"
   ]
  },
  {
   "cell_type": "code",
   "execution_count": 7,
   "metadata": {},
   "outputs": [],
   "source": [
    "import pandas as pd"
   ]
  },
  {
   "cell_type": "code",
   "execution_count": 8,
   "metadata": {},
   "outputs": [],
   "source": [
    "heart_raw_df=pd.read_csv('datasets_727551_1263738_heart_failure_clinical_records_dataset.csv')"
   ]
  },
  {
   "cell_type": "code",
   "execution_count": 9,
   "metadata": {},
   "outputs": [
    {
     "data": {
      "text/html": [
       "<div>\n",
       "<style scoped>\n",
       "    .dataframe tbody tr th:only-of-type {\n",
       "        vertical-align: middle;\n",
       "    }\n",
       "\n",
       "    .dataframe tbody tr th {\n",
       "        vertical-align: top;\n",
       "    }\n",
       "\n",
       "    .dataframe thead th {\n",
       "        text-align: right;\n",
       "    }\n",
       "</style>\n",
       "<table border=\"1\" class=\"dataframe\">\n",
       "  <thead>\n",
       "    <tr style=\"text-align: right;\">\n",
       "      <th></th>\n",
       "      <th>age</th>\n",
       "      <th>anaemia</th>\n",
       "      <th>creatinine_phosphokinase</th>\n",
       "      <th>diabetes</th>\n",
       "      <th>ejection_fraction</th>\n",
       "      <th>high_blood_pressure</th>\n",
       "      <th>platelets</th>\n",
       "      <th>serum_creatinine</th>\n",
       "      <th>serum_sodium</th>\n",
       "      <th>sex</th>\n",
       "      <th>smoking</th>\n",
       "      <th>time</th>\n",
       "      <th>DEATH_EVENT</th>\n",
       "    </tr>\n",
       "  </thead>\n",
       "  <tbody>\n",
       "    <tr>\n",
       "      <td>0</td>\n",
       "      <td>75.0</td>\n",
       "      <td>0</td>\n",
       "      <td>582</td>\n",
       "      <td>0</td>\n",
       "      <td>20</td>\n",
       "      <td>1</td>\n",
       "      <td>265000.00</td>\n",
       "      <td>1.9</td>\n",
       "      <td>130</td>\n",
       "      <td>1</td>\n",
       "      <td>0</td>\n",
       "      <td>4</td>\n",
       "      <td>1</td>\n",
       "    </tr>\n",
       "    <tr>\n",
       "      <td>1</td>\n",
       "      <td>55.0</td>\n",
       "      <td>0</td>\n",
       "      <td>7861</td>\n",
       "      <td>0</td>\n",
       "      <td>38</td>\n",
       "      <td>0</td>\n",
       "      <td>263358.03</td>\n",
       "      <td>1.1</td>\n",
       "      <td>136</td>\n",
       "      <td>1</td>\n",
       "      <td>0</td>\n",
       "      <td>6</td>\n",
       "      <td>1</td>\n",
       "    </tr>\n",
       "    <tr>\n",
       "      <td>2</td>\n",
       "      <td>65.0</td>\n",
       "      <td>0</td>\n",
       "      <td>146</td>\n",
       "      <td>0</td>\n",
       "      <td>20</td>\n",
       "      <td>0</td>\n",
       "      <td>162000.00</td>\n",
       "      <td>1.3</td>\n",
       "      <td>129</td>\n",
       "      <td>1</td>\n",
       "      <td>1</td>\n",
       "      <td>7</td>\n",
       "      <td>1</td>\n",
       "    </tr>\n",
       "    <tr>\n",
       "      <td>3</td>\n",
       "      <td>50.0</td>\n",
       "      <td>1</td>\n",
       "      <td>111</td>\n",
       "      <td>0</td>\n",
       "      <td>20</td>\n",
       "      <td>0</td>\n",
       "      <td>210000.00</td>\n",
       "      <td>1.9</td>\n",
       "      <td>137</td>\n",
       "      <td>1</td>\n",
       "      <td>0</td>\n",
       "      <td>7</td>\n",
       "      <td>1</td>\n",
       "    </tr>\n",
       "    <tr>\n",
       "      <td>4</td>\n",
       "      <td>65.0</td>\n",
       "      <td>1</td>\n",
       "      <td>160</td>\n",
       "      <td>1</td>\n",
       "      <td>20</td>\n",
       "      <td>0</td>\n",
       "      <td>327000.00</td>\n",
       "      <td>2.7</td>\n",
       "      <td>116</td>\n",
       "      <td>0</td>\n",
       "      <td>0</td>\n",
       "      <td>8</td>\n",
       "      <td>1</td>\n",
       "    </tr>\n",
       "    <tr>\n",
       "      <td>...</td>\n",
       "      <td>...</td>\n",
       "      <td>...</td>\n",
       "      <td>...</td>\n",
       "      <td>...</td>\n",
       "      <td>...</td>\n",
       "      <td>...</td>\n",
       "      <td>...</td>\n",
       "      <td>...</td>\n",
       "      <td>...</td>\n",
       "      <td>...</td>\n",
       "      <td>...</td>\n",
       "      <td>...</td>\n",
       "      <td>...</td>\n",
       "    </tr>\n",
       "    <tr>\n",
       "      <td>294</td>\n",
       "      <td>62.0</td>\n",
       "      <td>0</td>\n",
       "      <td>61</td>\n",
       "      <td>1</td>\n",
       "      <td>38</td>\n",
       "      <td>1</td>\n",
       "      <td>155000.00</td>\n",
       "      <td>1.1</td>\n",
       "      <td>143</td>\n",
       "      <td>1</td>\n",
       "      <td>1</td>\n",
       "      <td>270</td>\n",
       "      <td>0</td>\n",
       "    </tr>\n",
       "    <tr>\n",
       "      <td>295</td>\n",
       "      <td>55.0</td>\n",
       "      <td>0</td>\n",
       "      <td>1820</td>\n",
       "      <td>0</td>\n",
       "      <td>38</td>\n",
       "      <td>0</td>\n",
       "      <td>270000.00</td>\n",
       "      <td>1.2</td>\n",
       "      <td>139</td>\n",
       "      <td>0</td>\n",
       "      <td>0</td>\n",
       "      <td>271</td>\n",
       "      <td>0</td>\n",
       "    </tr>\n",
       "    <tr>\n",
       "      <td>296</td>\n",
       "      <td>45.0</td>\n",
       "      <td>0</td>\n",
       "      <td>2060</td>\n",
       "      <td>1</td>\n",
       "      <td>60</td>\n",
       "      <td>0</td>\n",
       "      <td>742000.00</td>\n",
       "      <td>0.8</td>\n",
       "      <td>138</td>\n",
       "      <td>0</td>\n",
       "      <td>0</td>\n",
       "      <td>278</td>\n",
       "      <td>0</td>\n",
       "    </tr>\n",
       "    <tr>\n",
       "      <td>297</td>\n",
       "      <td>45.0</td>\n",
       "      <td>0</td>\n",
       "      <td>2413</td>\n",
       "      <td>0</td>\n",
       "      <td>38</td>\n",
       "      <td>0</td>\n",
       "      <td>140000.00</td>\n",
       "      <td>1.4</td>\n",
       "      <td>140</td>\n",
       "      <td>1</td>\n",
       "      <td>1</td>\n",
       "      <td>280</td>\n",
       "      <td>0</td>\n",
       "    </tr>\n",
       "    <tr>\n",
       "      <td>298</td>\n",
       "      <td>50.0</td>\n",
       "      <td>0</td>\n",
       "      <td>196</td>\n",
       "      <td>0</td>\n",
       "      <td>45</td>\n",
       "      <td>0</td>\n",
       "      <td>395000.00</td>\n",
       "      <td>1.6</td>\n",
       "      <td>136</td>\n",
       "      <td>1</td>\n",
       "      <td>1</td>\n",
       "      <td>285</td>\n",
       "      <td>0</td>\n",
       "    </tr>\n",
       "  </tbody>\n",
       "</table>\n",
       "<p>299 rows × 13 columns</p>\n",
       "</div>"
      ],
      "text/plain": [
       "      age  anaemia  creatinine_phosphokinase  diabetes  ejection_fraction  \\\n",
       "0    75.0        0                       582         0                 20   \n",
       "1    55.0        0                      7861         0                 38   \n",
       "2    65.0        0                       146         0                 20   \n",
       "3    50.0        1                       111         0                 20   \n",
       "4    65.0        1                       160         1                 20   \n",
       "..    ...      ...                       ...       ...                ...   \n",
       "294  62.0        0                        61         1                 38   \n",
       "295  55.0        0                      1820         0                 38   \n",
       "296  45.0        0                      2060         1                 60   \n",
       "297  45.0        0                      2413         0                 38   \n",
       "298  50.0        0                       196         0                 45   \n",
       "\n",
       "     high_blood_pressure  platelets  serum_creatinine  serum_sodium  sex  \\\n",
       "0                      1  265000.00               1.9           130    1   \n",
       "1                      0  263358.03               1.1           136    1   \n",
       "2                      0  162000.00               1.3           129    1   \n",
       "3                      0  210000.00               1.9           137    1   \n",
       "4                      0  327000.00               2.7           116    0   \n",
       "..                   ...        ...               ...           ...  ...   \n",
       "294                    1  155000.00               1.1           143    1   \n",
       "295                    0  270000.00               1.2           139    0   \n",
       "296                    0  742000.00               0.8           138    0   \n",
       "297                    0  140000.00               1.4           140    1   \n",
       "298                    0  395000.00               1.6           136    1   \n",
       "\n",
       "     smoking  time  DEATH_EVENT  \n",
       "0          0     4            1  \n",
       "1          0     6            1  \n",
       "2          1     7            1  \n",
       "3          0     7            1  \n",
       "4          0     8            1  \n",
       "..       ...   ...          ...  \n",
       "294        1   270            0  \n",
       "295        0   271            0  \n",
       "296        0   278            0  \n",
       "297        1   280            0  \n",
       "298        1   285            0  \n",
       "\n",
       "[299 rows x 13 columns]"
      ]
     },
     "execution_count": 9,
     "metadata": {},
     "output_type": "execute_result"
    }
   ],
   "source": [
    "heart_raw_df"
   ]
  },
  {
   "cell_type": "code",
   "execution_count": 10,
   "metadata": {},
   "outputs": [
    {
     "data": {
      "text/plain": [
       "(299, 13)"
      ]
     },
     "execution_count": 10,
     "metadata": {},
     "output_type": "execute_result"
    }
   ],
   "source": [
    "heart_raw_df.shape"
   ]
  },
  {
   "cell_type": "code",
   "execution_count": 11,
   "metadata": {},
   "outputs": [
    {
     "name": "stdout",
     "output_type": "stream",
     "text": [
      "<class 'pandas.core.frame.DataFrame'>\n",
      "RangeIndex: 299 entries, 0 to 298\n",
      "Data columns (total 13 columns):\n",
      "age                         299 non-null float64\n",
      "anaemia                     299 non-null int64\n",
      "creatinine_phosphokinase    299 non-null int64\n",
      "diabetes                    299 non-null int64\n",
      "ejection_fraction           299 non-null int64\n",
      "high_blood_pressure         299 non-null int64\n",
      "platelets                   299 non-null float64\n",
      "serum_creatinine            299 non-null float64\n",
      "serum_sodium                299 non-null int64\n",
      "sex                         299 non-null int64\n",
      "smoking                     299 non-null int64\n",
      "time                        299 non-null int64\n",
      "DEATH_EVENT                 299 non-null int64\n",
      "dtypes: float64(3), int64(10)\n",
      "memory usage: 30.5 KB\n"
     ]
    }
   ],
   "source": [
    "heart_raw_df.info()"
   ]
  },
  {
   "cell_type": "markdown",
   "metadata": {},
   "source": [
    "All the columns have either float or int datatypes. So, there is no need for type conversion. But there are some columns which are catagorical. So, for such kind of columns '0' means false and '1' means true except for sex columns for which '0' means female and '1' means male."
   ]
  },
  {
   "cell_type": "code",
   "execution_count": 12,
   "metadata": {},
   "outputs": [
    {
     "data": {
      "text/html": [
       "<div>\n",
       "<style scoped>\n",
       "    .dataframe tbody tr th:only-of-type {\n",
       "        vertical-align: middle;\n",
       "    }\n",
       "\n",
       "    .dataframe tbody tr th {\n",
       "        vertical-align: top;\n",
       "    }\n",
       "\n",
       "    .dataframe thead th {\n",
       "        text-align: right;\n",
       "    }\n",
       "</style>\n",
       "<table border=\"1\" class=\"dataframe\">\n",
       "  <thead>\n",
       "    <tr style=\"text-align: right;\">\n",
       "      <th></th>\n",
       "      <th>age</th>\n",
       "      <th>anaemia</th>\n",
       "      <th>creatinine_phosphokinase</th>\n",
       "      <th>diabetes</th>\n",
       "      <th>ejection_fraction</th>\n",
       "      <th>high_blood_pressure</th>\n",
       "      <th>platelets</th>\n",
       "      <th>serum_creatinine</th>\n",
       "      <th>serum_sodium</th>\n",
       "      <th>sex</th>\n",
       "      <th>smoking</th>\n",
       "      <th>time</th>\n",
       "      <th>DEATH_EVENT</th>\n",
       "    </tr>\n",
       "  </thead>\n",
       "  <tbody>\n",
       "    <tr>\n",
       "      <td>count</td>\n",
       "      <td>299.000000</td>\n",
       "      <td>299.000000</td>\n",
       "      <td>299.000000</td>\n",
       "      <td>299.000000</td>\n",
       "      <td>299.000000</td>\n",
       "      <td>299.000000</td>\n",
       "      <td>299.000000</td>\n",
       "      <td>299.00000</td>\n",
       "      <td>299.000000</td>\n",
       "      <td>299.000000</td>\n",
       "      <td>299.00000</td>\n",
       "      <td>299.000000</td>\n",
       "      <td>299.00000</td>\n",
       "    </tr>\n",
       "    <tr>\n",
       "      <td>mean</td>\n",
       "      <td>60.833893</td>\n",
       "      <td>0.431438</td>\n",
       "      <td>581.839465</td>\n",
       "      <td>0.418060</td>\n",
       "      <td>38.083612</td>\n",
       "      <td>0.351171</td>\n",
       "      <td>263358.029264</td>\n",
       "      <td>1.39388</td>\n",
       "      <td>136.625418</td>\n",
       "      <td>0.648829</td>\n",
       "      <td>0.32107</td>\n",
       "      <td>130.260870</td>\n",
       "      <td>0.32107</td>\n",
       "    </tr>\n",
       "    <tr>\n",
       "      <td>std</td>\n",
       "      <td>11.894809</td>\n",
       "      <td>0.496107</td>\n",
       "      <td>970.287881</td>\n",
       "      <td>0.494067</td>\n",
       "      <td>11.834841</td>\n",
       "      <td>0.478136</td>\n",
       "      <td>97804.236869</td>\n",
       "      <td>1.03451</td>\n",
       "      <td>4.412477</td>\n",
       "      <td>0.478136</td>\n",
       "      <td>0.46767</td>\n",
       "      <td>77.614208</td>\n",
       "      <td>0.46767</td>\n",
       "    </tr>\n",
       "    <tr>\n",
       "      <td>min</td>\n",
       "      <td>40.000000</td>\n",
       "      <td>0.000000</td>\n",
       "      <td>23.000000</td>\n",
       "      <td>0.000000</td>\n",
       "      <td>14.000000</td>\n",
       "      <td>0.000000</td>\n",
       "      <td>25100.000000</td>\n",
       "      <td>0.50000</td>\n",
       "      <td>113.000000</td>\n",
       "      <td>0.000000</td>\n",
       "      <td>0.00000</td>\n",
       "      <td>4.000000</td>\n",
       "      <td>0.00000</td>\n",
       "    </tr>\n",
       "    <tr>\n",
       "      <td>25%</td>\n",
       "      <td>51.000000</td>\n",
       "      <td>0.000000</td>\n",
       "      <td>116.500000</td>\n",
       "      <td>0.000000</td>\n",
       "      <td>30.000000</td>\n",
       "      <td>0.000000</td>\n",
       "      <td>212500.000000</td>\n",
       "      <td>0.90000</td>\n",
       "      <td>134.000000</td>\n",
       "      <td>0.000000</td>\n",
       "      <td>0.00000</td>\n",
       "      <td>73.000000</td>\n",
       "      <td>0.00000</td>\n",
       "    </tr>\n",
       "    <tr>\n",
       "      <td>50%</td>\n",
       "      <td>60.000000</td>\n",
       "      <td>0.000000</td>\n",
       "      <td>250.000000</td>\n",
       "      <td>0.000000</td>\n",
       "      <td>38.000000</td>\n",
       "      <td>0.000000</td>\n",
       "      <td>262000.000000</td>\n",
       "      <td>1.10000</td>\n",
       "      <td>137.000000</td>\n",
       "      <td>1.000000</td>\n",
       "      <td>0.00000</td>\n",
       "      <td>115.000000</td>\n",
       "      <td>0.00000</td>\n",
       "    </tr>\n",
       "    <tr>\n",
       "      <td>75%</td>\n",
       "      <td>70.000000</td>\n",
       "      <td>1.000000</td>\n",
       "      <td>582.000000</td>\n",
       "      <td>1.000000</td>\n",
       "      <td>45.000000</td>\n",
       "      <td>1.000000</td>\n",
       "      <td>303500.000000</td>\n",
       "      <td>1.40000</td>\n",
       "      <td>140.000000</td>\n",
       "      <td>1.000000</td>\n",
       "      <td>1.00000</td>\n",
       "      <td>203.000000</td>\n",
       "      <td>1.00000</td>\n",
       "    </tr>\n",
       "    <tr>\n",
       "      <td>max</td>\n",
       "      <td>95.000000</td>\n",
       "      <td>1.000000</td>\n",
       "      <td>7861.000000</td>\n",
       "      <td>1.000000</td>\n",
       "      <td>80.000000</td>\n",
       "      <td>1.000000</td>\n",
       "      <td>850000.000000</td>\n",
       "      <td>9.40000</td>\n",
       "      <td>148.000000</td>\n",
       "      <td>1.000000</td>\n",
       "      <td>1.00000</td>\n",
       "      <td>285.000000</td>\n",
       "      <td>1.00000</td>\n",
       "    </tr>\n",
       "  </tbody>\n",
       "</table>\n",
       "</div>"
      ],
      "text/plain": [
       "              age     anaemia  creatinine_phosphokinase    diabetes  \\\n",
       "count  299.000000  299.000000                299.000000  299.000000   \n",
       "mean    60.833893    0.431438                581.839465    0.418060   \n",
       "std     11.894809    0.496107                970.287881    0.494067   \n",
       "min     40.000000    0.000000                 23.000000    0.000000   \n",
       "25%     51.000000    0.000000                116.500000    0.000000   \n",
       "50%     60.000000    0.000000                250.000000    0.000000   \n",
       "75%     70.000000    1.000000                582.000000    1.000000   \n",
       "max     95.000000    1.000000               7861.000000    1.000000   \n",
       "\n",
       "       ejection_fraction  high_blood_pressure      platelets  \\\n",
       "count         299.000000           299.000000     299.000000   \n",
       "mean           38.083612             0.351171  263358.029264   \n",
       "std            11.834841             0.478136   97804.236869   \n",
       "min            14.000000             0.000000   25100.000000   \n",
       "25%            30.000000             0.000000  212500.000000   \n",
       "50%            38.000000             0.000000  262000.000000   \n",
       "75%            45.000000             1.000000  303500.000000   \n",
       "max            80.000000             1.000000  850000.000000   \n",
       "\n",
       "       serum_creatinine  serum_sodium         sex    smoking        time  \\\n",
       "count         299.00000    299.000000  299.000000  299.00000  299.000000   \n",
       "mean            1.39388    136.625418    0.648829    0.32107  130.260870   \n",
       "std             1.03451      4.412477    0.478136    0.46767   77.614208   \n",
       "min             0.50000    113.000000    0.000000    0.00000    4.000000   \n",
       "25%             0.90000    134.000000    0.000000    0.00000   73.000000   \n",
       "50%             1.10000    137.000000    1.000000    0.00000  115.000000   \n",
       "75%             1.40000    140.000000    1.000000    1.00000  203.000000   \n",
       "max             9.40000    148.000000    1.000000    1.00000  285.000000   \n",
       "\n",
       "       DEATH_EVENT  \n",
       "count    299.00000  \n",
       "mean       0.32107  \n",
       "std        0.46767  \n",
       "min        0.00000  \n",
       "25%        0.00000  \n",
       "50%        0.00000  \n",
       "75%        1.00000  \n",
       "max        1.00000  "
      ]
     },
     "execution_count": 12,
     "metadata": {},
     "output_type": "execute_result"
    }
   ],
   "source": [
    "heart_raw_df.describe()"
   ]
  },
  {
   "cell_type": "markdown",
   "metadata": {},
   "source": [
    "There are 13 columns in this dataframe. So, let us consider 10 important columns for our analysis."
   ]
  },
  {
   "cell_type": "code",
   "execution_count": 13,
   "metadata": {},
   "outputs": [],
   "source": [
    "select_col=['age','anaemia','diabetes','high_blood_pressure','ejection_fraction','serum_creatinine','serum_sodium','sex','smoking','DEATH_EVENT']"
   ]
  },
  {
   "cell_type": "code",
   "execution_count": 14,
   "metadata": {},
   "outputs": [],
   "source": [
    "heart_df=heart_raw_df[select_col].copy()"
   ]
  },
  {
   "cell_type": "code",
   "execution_count": 15,
   "metadata": {},
   "outputs": [
    {
     "data": {
      "text/html": [
       "<div>\n",
       "<style scoped>\n",
       "    .dataframe tbody tr th:only-of-type {\n",
       "        vertical-align: middle;\n",
       "    }\n",
       "\n",
       "    .dataframe tbody tr th {\n",
       "        vertical-align: top;\n",
       "    }\n",
       "\n",
       "    .dataframe thead th {\n",
       "        text-align: right;\n",
       "    }\n",
       "</style>\n",
       "<table border=\"1\" class=\"dataframe\">\n",
       "  <thead>\n",
       "    <tr style=\"text-align: right;\">\n",
       "      <th></th>\n",
       "      <th>age</th>\n",
       "      <th>anaemia</th>\n",
       "      <th>diabetes</th>\n",
       "      <th>high_blood_pressure</th>\n",
       "      <th>ejection_fraction</th>\n",
       "      <th>serum_creatinine</th>\n",
       "      <th>serum_sodium</th>\n",
       "      <th>sex</th>\n",
       "      <th>smoking</th>\n",
       "      <th>DEATH_EVENT</th>\n",
       "    </tr>\n",
       "  </thead>\n",
       "  <tbody>\n",
       "    <tr>\n",
       "      <td>0</td>\n",
       "      <td>75.0</td>\n",
       "      <td>0</td>\n",
       "      <td>0</td>\n",
       "      <td>1</td>\n",
       "      <td>20</td>\n",
       "      <td>1.9</td>\n",
       "      <td>130</td>\n",
       "      <td>1</td>\n",
       "      <td>0</td>\n",
       "      <td>1</td>\n",
       "    </tr>\n",
       "    <tr>\n",
       "      <td>1</td>\n",
       "      <td>55.0</td>\n",
       "      <td>0</td>\n",
       "      <td>0</td>\n",
       "      <td>0</td>\n",
       "      <td>38</td>\n",
       "      <td>1.1</td>\n",
       "      <td>136</td>\n",
       "      <td>1</td>\n",
       "      <td>0</td>\n",
       "      <td>1</td>\n",
       "    </tr>\n",
       "    <tr>\n",
       "      <td>2</td>\n",
       "      <td>65.0</td>\n",
       "      <td>0</td>\n",
       "      <td>0</td>\n",
       "      <td>0</td>\n",
       "      <td>20</td>\n",
       "      <td>1.3</td>\n",
       "      <td>129</td>\n",
       "      <td>1</td>\n",
       "      <td>1</td>\n",
       "      <td>1</td>\n",
       "    </tr>\n",
       "    <tr>\n",
       "      <td>3</td>\n",
       "      <td>50.0</td>\n",
       "      <td>1</td>\n",
       "      <td>0</td>\n",
       "      <td>0</td>\n",
       "      <td>20</td>\n",
       "      <td>1.9</td>\n",
       "      <td>137</td>\n",
       "      <td>1</td>\n",
       "      <td>0</td>\n",
       "      <td>1</td>\n",
       "    </tr>\n",
       "    <tr>\n",
       "      <td>4</td>\n",
       "      <td>65.0</td>\n",
       "      <td>1</td>\n",
       "      <td>1</td>\n",
       "      <td>0</td>\n",
       "      <td>20</td>\n",
       "      <td>2.7</td>\n",
       "      <td>116</td>\n",
       "      <td>0</td>\n",
       "      <td>0</td>\n",
       "      <td>1</td>\n",
       "    </tr>\n",
       "    <tr>\n",
       "      <td>...</td>\n",
       "      <td>...</td>\n",
       "      <td>...</td>\n",
       "      <td>...</td>\n",
       "      <td>...</td>\n",
       "      <td>...</td>\n",
       "      <td>...</td>\n",
       "      <td>...</td>\n",
       "      <td>...</td>\n",
       "      <td>...</td>\n",
       "      <td>...</td>\n",
       "    </tr>\n",
       "    <tr>\n",
       "      <td>294</td>\n",
       "      <td>62.0</td>\n",
       "      <td>0</td>\n",
       "      <td>1</td>\n",
       "      <td>1</td>\n",
       "      <td>38</td>\n",
       "      <td>1.1</td>\n",
       "      <td>143</td>\n",
       "      <td>1</td>\n",
       "      <td>1</td>\n",
       "      <td>0</td>\n",
       "    </tr>\n",
       "    <tr>\n",
       "      <td>295</td>\n",
       "      <td>55.0</td>\n",
       "      <td>0</td>\n",
       "      <td>0</td>\n",
       "      <td>0</td>\n",
       "      <td>38</td>\n",
       "      <td>1.2</td>\n",
       "      <td>139</td>\n",
       "      <td>0</td>\n",
       "      <td>0</td>\n",
       "      <td>0</td>\n",
       "    </tr>\n",
       "    <tr>\n",
       "      <td>296</td>\n",
       "      <td>45.0</td>\n",
       "      <td>0</td>\n",
       "      <td>1</td>\n",
       "      <td>0</td>\n",
       "      <td>60</td>\n",
       "      <td>0.8</td>\n",
       "      <td>138</td>\n",
       "      <td>0</td>\n",
       "      <td>0</td>\n",
       "      <td>0</td>\n",
       "    </tr>\n",
       "    <tr>\n",
       "      <td>297</td>\n",
       "      <td>45.0</td>\n",
       "      <td>0</td>\n",
       "      <td>0</td>\n",
       "      <td>0</td>\n",
       "      <td>38</td>\n",
       "      <td>1.4</td>\n",
       "      <td>140</td>\n",
       "      <td>1</td>\n",
       "      <td>1</td>\n",
       "      <td>0</td>\n",
       "    </tr>\n",
       "    <tr>\n",
       "      <td>298</td>\n",
       "      <td>50.0</td>\n",
       "      <td>0</td>\n",
       "      <td>0</td>\n",
       "      <td>0</td>\n",
       "      <td>45</td>\n",
       "      <td>1.6</td>\n",
       "      <td>136</td>\n",
       "      <td>1</td>\n",
       "      <td>1</td>\n",
       "      <td>0</td>\n",
       "    </tr>\n",
       "  </tbody>\n",
       "</table>\n",
       "<p>299 rows × 10 columns</p>\n",
       "</div>"
      ],
      "text/plain": [
       "      age  anaemia  diabetes  high_blood_pressure  ejection_fraction  \\\n",
       "0    75.0        0         0                    1                 20   \n",
       "1    55.0        0         0                    0                 38   \n",
       "2    65.0        0         0                    0                 20   \n",
       "3    50.0        1         0                    0                 20   \n",
       "4    65.0        1         1                    0                 20   \n",
       "..    ...      ...       ...                  ...                ...   \n",
       "294  62.0        0         1                    1                 38   \n",
       "295  55.0        0         0                    0                 38   \n",
       "296  45.0        0         1                    0                 60   \n",
       "297  45.0        0         0                    0                 38   \n",
       "298  50.0        0         0                    0                 45   \n",
       "\n",
       "     serum_creatinine  serum_sodium  sex  smoking  DEATH_EVENT  \n",
       "0                 1.9           130    1        0            1  \n",
       "1                 1.1           136    1        0            1  \n",
       "2                 1.3           129    1        1            1  \n",
       "3                 1.9           137    1        0            1  \n",
       "4                 2.7           116    0        0            1  \n",
       "..                ...           ...  ...      ...          ...  \n",
       "294               1.1           143    1        1            0  \n",
       "295               1.2           139    0        0            0  \n",
       "296               0.8           138    0        0            0  \n",
       "297               1.4           140    1        1            0  \n",
       "298               1.6           136    1        1            0  \n",
       "\n",
       "[299 rows x 10 columns]"
      ]
     },
     "execution_count": 15,
     "metadata": {},
     "output_type": "execute_result"
    }
   ],
   "source": [
    "heart_df"
   ]
  },
  {
   "cell_type": "markdown",
   "metadata": {},
   "source": [
    "The final dataframe."
   ]
  },
  {
   "cell_type": "code",
   "execution_count": 16,
   "metadata": {},
   "outputs": [
    {
     "data": {
      "text/plain": [
       "(299, 10)"
      ]
     },
     "execution_count": 16,
     "metadata": {},
     "output_type": "execute_result"
    }
   ],
   "source": [
    "heart_df.shape"
   ]
  },
  {
   "cell_type": "code",
   "execution_count": 17,
   "metadata": {},
   "outputs": [
    {
     "data": {
      "text/html": [
       "<div>\n",
       "<style scoped>\n",
       "    .dataframe tbody tr th:only-of-type {\n",
       "        vertical-align: middle;\n",
       "    }\n",
       "\n",
       "    .dataframe tbody tr th {\n",
       "        vertical-align: top;\n",
       "    }\n",
       "\n",
       "    .dataframe thead th {\n",
       "        text-align: right;\n",
       "    }\n",
       "</style>\n",
       "<table border=\"1\" class=\"dataframe\">\n",
       "  <thead>\n",
       "    <tr style=\"text-align: right;\">\n",
       "      <th></th>\n",
       "      <th>age</th>\n",
       "      <th>anaemia</th>\n",
       "      <th>diabetes</th>\n",
       "      <th>high_blood_pressure</th>\n",
       "      <th>ejection_fraction</th>\n",
       "      <th>serum_creatinine</th>\n",
       "      <th>serum_sodium</th>\n",
       "      <th>sex</th>\n",
       "      <th>smoking</th>\n",
       "      <th>DEATH_EVENT</th>\n",
       "    </tr>\n",
       "  </thead>\n",
       "  <tbody>\n",
       "    <tr>\n",
       "      <td>count</td>\n",
       "      <td>299.000000</td>\n",
       "      <td>299.000000</td>\n",
       "      <td>299.000000</td>\n",
       "      <td>299.000000</td>\n",
       "      <td>299.000000</td>\n",
       "      <td>299.00000</td>\n",
       "      <td>299.000000</td>\n",
       "      <td>299.000000</td>\n",
       "      <td>299.00000</td>\n",
       "      <td>299.00000</td>\n",
       "    </tr>\n",
       "    <tr>\n",
       "      <td>mean</td>\n",
       "      <td>60.833893</td>\n",
       "      <td>0.431438</td>\n",
       "      <td>0.418060</td>\n",
       "      <td>0.351171</td>\n",
       "      <td>38.083612</td>\n",
       "      <td>1.39388</td>\n",
       "      <td>136.625418</td>\n",
       "      <td>0.648829</td>\n",
       "      <td>0.32107</td>\n",
       "      <td>0.32107</td>\n",
       "    </tr>\n",
       "    <tr>\n",
       "      <td>std</td>\n",
       "      <td>11.894809</td>\n",
       "      <td>0.496107</td>\n",
       "      <td>0.494067</td>\n",
       "      <td>0.478136</td>\n",
       "      <td>11.834841</td>\n",
       "      <td>1.03451</td>\n",
       "      <td>4.412477</td>\n",
       "      <td>0.478136</td>\n",
       "      <td>0.46767</td>\n",
       "      <td>0.46767</td>\n",
       "    </tr>\n",
       "    <tr>\n",
       "      <td>min</td>\n",
       "      <td>40.000000</td>\n",
       "      <td>0.000000</td>\n",
       "      <td>0.000000</td>\n",
       "      <td>0.000000</td>\n",
       "      <td>14.000000</td>\n",
       "      <td>0.50000</td>\n",
       "      <td>113.000000</td>\n",
       "      <td>0.000000</td>\n",
       "      <td>0.00000</td>\n",
       "      <td>0.00000</td>\n",
       "    </tr>\n",
       "    <tr>\n",
       "      <td>25%</td>\n",
       "      <td>51.000000</td>\n",
       "      <td>0.000000</td>\n",
       "      <td>0.000000</td>\n",
       "      <td>0.000000</td>\n",
       "      <td>30.000000</td>\n",
       "      <td>0.90000</td>\n",
       "      <td>134.000000</td>\n",
       "      <td>0.000000</td>\n",
       "      <td>0.00000</td>\n",
       "      <td>0.00000</td>\n",
       "    </tr>\n",
       "    <tr>\n",
       "      <td>50%</td>\n",
       "      <td>60.000000</td>\n",
       "      <td>0.000000</td>\n",
       "      <td>0.000000</td>\n",
       "      <td>0.000000</td>\n",
       "      <td>38.000000</td>\n",
       "      <td>1.10000</td>\n",
       "      <td>137.000000</td>\n",
       "      <td>1.000000</td>\n",
       "      <td>0.00000</td>\n",
       "      <td>0.00000</td>\n",
       "    </tr>\n",
       "    <tr>\n",
       "      <td>75%</td>\n",
       "      <td>70.000000</td>\n",
       "      <td>1.000000</td>\n",
       "      <td>1.000000</td>\n",
       "      <td>1.000000</td>\n",
       "      <td>45.000000</td>\n",
       "      <td>1.40000</td>\n",
       "      <td>140.000000</td>\n",
       "      <td>1.000000</td>\n",
       "      <td>1.00000</td>\n",
       "      <td>1.00000</td>\n",
       "    </tr>\n",
       "    <tr>\n",
       "      <td>max</td>\n",
       "      <td>95.000000</td>\n",
       "      <td>1.000000</td>\n",
       "      <td>1.000000</td>\n",
       "      <td>1.000000</td>\n",
       "      <td>80.000000</td>\n",
       "      <td>9.40000</td>\n",
       "      <td>148.000000</td>\n",
       "      <td>1.000000</td>\n",
       "      <td>1.00000</td>\n",
       "      <td>1.00000</td>\n",
       "    </tr>\n",
       "  </tbody>\n",
       "</table>\n",
       "</div>"
      ],
      "text/plain": [
       "              age     anaemia    diabetes  high_blood_pressure  \\\n",
       "count  299.000000  299.000000  299.000000           299.000000   \n",
       "mean    60.833893    0.431438    0.418060             0.351171   \n",
       "std     11.894809    0.496107    0.494067             0.478136   \n",
       "min     40.000000    0.000000    0.000000             0.000000   \n",
       "25%     51.000000    0.000000    0.000000             0.000000   \n",
       "50%     60.000000    0.000000    0.000000             0.000000   \n",
       "75%     70.000000    1.000000    1.000000             1.000000   \n",
       "max     95.000000    1.000000    1.000000             1.000000   \n",
       "\n",
       "       ejection_fraction  serum_creatinine  serum_sodium         sex  \\\n",
       "count         299.000000         299.00000    299.000000  299.000000   \n",
       "mean           38.083612           1.39388    136.625418    0.648829   \n",
       "std            11.834841           1.03451      4.412477    0.478136   \n",
       "min            14.000000           0.50000    113.000000    0.000000   \n",
       "25%            30.000000           0.90000    134.000000    0.000000   \n",
       "50%            38.000000           1.10000    137.000000    1.000000   \n",
       "75%            45.000000           1.40000    140.000000    1.000000   \n",
       "max            80.000000           9.40000    148.000000    1.000000   \n",
       "\n",
       "         smoking  DEATH_EVENT  \n",
       "count  299.00000    299.00000  \n",
       "mean     0.32107      0.32107  \n",
       "std      0.46767      0.46767  \n",
       "min      0.00000      0.00000  \n",
       "25%      0.00000      0.00000  \n",
       "50%      0.00000      0.00000  \n",
       "75%      1.00000      1.00000  \n",
       "max      1.00000      1.00000  "
      ]
     },
     "execution_count": 17,
     "metadata": {},
     "output_type": "execute_result"
    }
   ],
   "source": [
    "heart_df.describe()"
   ]
  },
  {
   "cell_type": "code",
   "execution_count": null,
   "metadata": {},
   "outputs": [],
   "source": [
    "import jovian"
   ]
  },
  {
   "cell_type": "code",
   "execution_count": null,
   "metadata": {},
   "outputs": [],
   "source": [
    "jovian.commit(files=['datasets_727551_1263738_heart_failure_clinical_records_dataset.csv'])"
   ]
  },
  {
   "cell_type": "markdown",
   "metadata": {},
   "source": [
    "## Exploratory Analysis and Visualization\n",
    "\n",
    "This part is to explore the data and get insights from it through visualization."
   ]
  },
  {
   "cell_type": "code",
   "execution_count": 18,
   "metadata": {},
   "outputs": [],
   "source": [
    "import matplotlib\n",
    "import matplotlib.pyplot as plt\n",
    "import seaborn as sns\n",
    "%matplotlib inline\n",
    "\n"
   ]
  },
  {
   "cell_type": "code",
   "execution_count": 19,
   "metadata": {},
   "outputs": [],
   "source": [
    "sns.set_style('darkgrid')\n",
    "matplotlib.rcParams['font.size'] = 14\n",
    "matplotlib.rcParams['figure.figsize'] = (9, 5)\n",
    "matplotlib.rcParams['figure.facecolor'] = '#00000000'"
   ]
  },
  {
   "cell_type": "code",
   "execution_count": 20,
   "metadata": {},
   "outputs": [
    {
     "data": {
      "image/png": "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\n",
      "text/plain": [
       "<Figure size 648x360 with 1 Axes>"
      ]
     },
     "metadata": {
      "needs_background": "light"
     },
     "output_type": "display_data"
    }
   ],
   "source": [
    "plt.hist(heart_df.diabetes)\n",
    "plt.xlabel('Diabaties');\n",
    "#plt.ylabel('diabetes')"
   ]
  },
  {
   "cell_type": "markdown",
   "metadata": {},
   "source": [
    "There are 125 diabatic patients who have heart failure which less compared to that of non-diabatic patients(174 patients)."
   ]
  },
  {
   "cell_type": "code",
   "execution_count": 21,
   "metadata": {},
   "outputs": [
    {
     "data": {
      "image/png": "iVBORw0KGgoAAAANSUhEUgAAAiIAAAFFCAYAAADRrYZVAAAABHNCSVQICAgIfAhkiAAAAAlwSFlzAAALEgAACxIB0t1+/AAAADh0RVh0U29mdHdhcmUAbWF0cGxvdGxpYiB2ZXJzaW9uMy4xLjEsIGh0dHA6Ly9tYXRwbG90bGliLm9yZy8QZhcZAAAduElEQVR4nO3de5TdVX338fcwgYGB4FSNJooFi/ar8GgQHjQJULygVkAtKg9VvAOCFh65eGtFaq0XtJWFYhHECwiP4AWUKgulaKsQDcaACkq/FRVUEkLFBkITIkzm+eP3m67jyYQ5h3PZOSfv11qzZs7ev/PbO981a84n+3cbmZqaQpIkqYRtSk9AkiRtvQwikiSpGIOIJEkqxiAiSZKKMYhIkqRiDCKSJKmYOaUnsDkbN26cmpzs/qXFo6Mj9GK/mpn17h9r3T/Wur+sd//0stbbbjv6W2Bec/sWG0QmJ6dYs2Zd1/c7MTHek/1qZta7f6x1/1jr/rLe/dPLWs+bN/e2mdo9NCNJkooxiEiSpGIMIpIkqRiDiCRJKsYgIkmSijGISJKkYgwikiSpGIOIJEkqxiAiSZKKMYhIkqRiDCKSJKmYLfZZM70yCcybN7f0NNq2fsMD3HvP+tLTkCSpq7a6ILL9tqPs9o4rSk+jbbeefgj3lp6EJEld5qEZSZJUjEFEkiQVYxCRJEnFGEQkSVIxBhFJklSMQUSSJBVjEJEkScUYRCRJUjFt3dAsIsaAFcCJmXl13bYz8FHgMGA9cB5wWmZO1f0LgXOAhcDNwHGZubxr/wJJkjSwWl4RiYjtgYuBPZu6Pgs8BTgQeC3wV8BR9Xt2BK4ElgH7ANcAV0TE4N1jXZIkdV1LQSQi9qAKE7vP0P5C4BWZ+cPM/DpwBvCMepMjgPuBUzLzZuAk4O66XZIkbeVaXRE5ALgKWNzU/mzgpszM6YbMfG9mHlO/XAQszcyNdd8UsHSG/UiSpK1QS+eIZOa50z9HRGPX7sAvI+JE4Pi67ZPAB+vQsQBI/tBqYK+HOmFJkjQ8On367lzgmfV+Xg7sRnVi6n3AmcA4sKHpPRuAsdl2PDo6wsTEeIfTGy6DWI/R0W0Gct6DyFr3j7XuL+vdPyVq3WkQeQDYDnh5Zq4FlkfErsAbqYLIfWwaOsaAdbPteHJyijVrZt2sbfPmDe55sr2oR69NTIwP5LwHkbXuH2vdX9a7f3pZ6819/nZ6H5GVwO11CJmWwB/XP98OzG96z3xgVYfjSpKkIdBpEPkesGtEPKKhbQ/g1vrnZcCSiBgBqL8vqdslSdJWrtMg8i3gRuCiiNgzIg4F3gacXfd/CdgJOKu+1PcMYGfgkg7HlSRJQ6CjIJKZk8ChVHdU/T7VXVU/DHys7r8HOIRqFeR6YD/g4KZDOZIkaSvV9smqmTnS9HoV8JIH2X45sHf7U5MkScPOh95JkqRiDCKSJKkYg4gkSSrGICJJkooxiEiSpGIMIpIkqRiDiCRJKsYgIkmSijGISJKkYgwikiSpGIOIJEkqxiAiSZKKMYhIkqRiDCKSJKkYg4gkSSrGICJJkooxiEiSpGIMIpIkqZg57WwcEWPACuDEzLx6hv6rgJWZ+dqGtmcBHwGeAHwfODozb+lk0pIkaTi0vCISEdsDFwN7bqb/9cBzm9oeB/wzcBHwv4E7gMsjwpUYSZLUWhCJiD2AZcDum+lfALwfWN7UdQzwo8z8UGb+FHg98Djg2Q95xpIkaWi0ujJxAHAVsHgz/R8H/gn4j6b2RcB3pl9k5jrg+gfZjyRJ2oq0dI5IZp47/XNE/EFfRBxBtVJyOPCZprcuAFY2ta0Gdml3opIkafh0dK5GRDwCOJPqBNT7Z9hkHNjQ1LYBGOtkXEmSNBzaumpmBh8FvpCZ122m/z42DR1jwF2z7Xh0dISJifEOpzdcBrEeo6PbDOS8B5G17h9r3V/Wu39K1LrTIPIKYH1EHFW/HgOIiH0zc0/gdmB+03vmAzfNtuPJySnWrFnX4fQ2NW/e3K7vs196UY9em5gYH8h5DyJr3T/Wur+sd//0stab+/ztNIg8sen1PwKTwMn162XAn013RsQ48DTgvR2OK0mShkBHQaT5xmQRcS/wQGbeVjd9GnhrRLwT+DLwLuBXwDc7GVeSJA2Hnt5YLDNvBV4CvAr4AfBo4MWZubGX40qSpMHQ9opIZo48SN8rZ2i7Eriy3XEkSdLw81brkiSpGIOIJEkqxiAiSZKKMYhIkqRiDCKSJKkYg4gkSSrGICJJkooxiEiSpGIMIpIkqRiDiCRJKqbTp+9KkqQmO+28AzuMDd5H7H33T/Z9zMGrkiRJW7gdxuaw2zuuKD2Ntt16+iGs7fOYHpqRJEnFGEQkSVIxBhFJklSMQUSSJBVjEJEkScUYRCRJUjEGEUmSVExb9xGJiDFgBXBiZl5dt+0NnAHsA/wW+ATwwczcWPcvBM4BFgI3A8dl5vKu/QskSdLAanlFJCK2By4G9mxoezhwJXAjVRA5ATgF+Ku6f8e6f1ndfw1wRUTM7dL8JUnSAGspiETEHlRhYvemroOB+4E3Z+Z/ZObXqFZHjqz7j6j7T8nMm4GTgLvrdkmStJVrdUXkAOAqYHFT+7eBv5w+DFObAravf14ELJ3uz8wpYOkM+5EkSVuhls4Rycxzp3+OiMb2XwO/bujbATgG+FrdtADIpt2tBvZ6aNOVJEnDpGsPvYuIUeAiYEfg/XXzOLChadMNwNhs+xsdHWFiYrxb0xsKg1iP0dFtBnLeg8ha94+17i/r3V/9rnVXgkhEbAd8DngecFBm3lF33cemoWMMWDfbPicnp1izZtbN2jZv3uCeJ9uLevTaxMT4QM57EFnr/rHW/TWI9fazZlObq0nHQaQ+HPNlqvM+/jwzr2vovh2Y3/SW+cCqTseVJEmDrxs3NPt/wDOoVkKWNvUtA5ZExAhA/X1J3S5JkrZyHQWRiDgCOAw4Hvh1RMyvv+bVm3wJ2Ak4q74E+AxgZ+CSTsaVJEnDodMVkcPr7xdRHW6Z/roBIDPvAQ6hWgW5HtgPODgz13Y4riRJGgJtnyOSmSMNP7+she2XA3u3O44kSRp+PvROkiQVYxCRJEnFGEQkSVIxBhFJklSMQUSSJBVjEJEkScUYRCRJUjEGEUmSVIxBRJIkFWMQkSRJxRhEJElSMQYRSZJUjEFEkiQVYxCRJEnFGEQkSVIxBhFJklSMQUSSJBVjEJEkScXMaWfjiBgDVgAnZubVddvDgXOB5wO/A/42My9oeM9C4BxgIXAzcFxmLu/O9CVJ0iBreUUkIrYHLgb2bOo6H3gEsB/wHuDciFhSv2dH4EpgGbAPcA1wRUTM7XjmkiRp4LUURCJiD6owsXtT++7AC4E3ZOaNmflp4CLgTfUmRwD3A6dk5s3AScDddbskSdrKtboicgBwFbC4qf0ZwKrMvKWh7dqG7RYBSzNzI0BmTgFLZ9iPJEnaCrV0jkhmnjv9c0Q0di0AVjZtvhrYpaE/Z+jfq61ZSpKkodTpVTPjwIamtg3AdhEx8iD9Yx2OK0mShkBbV83M4D42DRVjwPrMnIqIzfWvm23Ho6MjTEyMdzi94TKI9Rgd3WYg5z2IrHX/WOv+st791e9adxpEbgfmN7XNB1a12L9Zk5NTrFkza15p27x5g3vBTi/q0WsTE+MDOe9BZK37x1r31yDW28+aTW2uJp0emlkGPDYidmto279un+5fUh+mof6+pKFfkiRtxToKIpn5C+AbwGcj4qkR8TrgSOBj9SZfAnYCzqovAT4D2Bm4pJNxJUnScOjGLd5fDawBrgNOA47OzO8BZOY9wCFUqyDXU9307ODMXNuFcSVJ0oBr+xyRzBxpen0n8KIH2X45sHf7U5MkScPOh95JkqRiDCKSJKkYg4gkSSrGICJJkooxiEiSpGIMIpIkqRiDiCRJKsYgIkmSijGISJKkYgwikiSpGIOIJEkqxiAiSZKKMYhIkqRiDCKSJKkYg4gkSSrGICJJkooxiEiSpGIMIpIkqRiDiCRJKmZON3YSEX8EnAUcDKwHLgTemZmTEfFw4Fzg+cDvgL/NzAu6Ma4kSRps3VoRORvYBfgz4JXAa4CT677zgUcA+wHvAc6NiCVdGleSJA2wrqyIUK2EvCYzbwKIiM8Bz46Iy4AXAk/MzFuAG+sQ8ibgu10aW5IkDahurYjcBRwZEeMR8Rjgz4EVwDOAVXUImXYtsLhL40qSpAHWrSDyJuCZwFrgduAO4N3AAmBl07arqQ7jSJKkrVy3Ds08AbgB+DtgZ+BjwD9SrZRsaNp2A7BdRIxk5tTmdjg6OsLExHiXpjccBrEeo6PbDOS8B5G17h9r3V/Wu7/6XeuOg0hE7A6cCeyWmb+p244G/gV4JzDW9JYxYP2DhRCAyckp1qxZ1+n0NjFv3tyu77NfelGPXpuYGB/IeQ8ia90/1rq/BrHeftZsanM16cahmX2AtdMhpLYCGKUKHfObtp8PrOrCuJIkacB1I4isBCYi4nENbU+uv38deGxE7NbQtz+wrAvjSpKkAdeNc0SWAT8EPhMRJwPjVDcwuzAzvx8R3wA+GxHHU62eHAk8qwvjSpKkAdfxikhmPgAcQnXX1G8BlwHfBo6tN3k1sAa4DjgNODozv9fpuJIkafB15aqZzFwJ/J/N9N0JvKgb40iSpOHiQ+8kSVIxBhFJklSMQUSSJBVjEJEkScUYRCRJUjEGEUmSVIxBRJIkFWMQkSRJxRhEJElSMQYRSZJUjEFEkiQVYxCRJEnFGEQkSVIxBhFJklSMQUSSJBVjEJEkScUYRCRJUjEGEUmSVMycbuwkIrYFPgi8GhgBvgCcmJkbImJX4DxgP+BXwMmZeWU3xpUkSYOtWysi/wC8BHgx8ELgBcC7ImIEuBy4C9gXuAC4NCIe36VxJUnSAOt4RSQiJoA3Aodm5tK67d3AEcCzgAAOyMy1wE8j4iDgKODUTseWJEmDrRsrIvsD64Grpxsy8/zMfAGwCLihDiHTrgUWd2FcSZI04LpxjsjuwK3AyyPincBOwBeBvwEWACubtl8N7NKFcSVJ0oDrRhCZCzweOAE4tn798Xrf48CGpu03AGOz7XR0dISJifEuTG94DGI9Rke3Gch5DyJr3T/Wur+sd3/1u9bdCCIPADsDr8zMnwNExFuAC4HzgYc1bT8GrJttp5OTU6xZM+tmbZs3b27X99kvvahHr01MjA/kvAeRte4fa91fg1hvP2s2tbmadOMckZXAA9MhpJbA9sAdwPym7ecDq7owriRJGnDdCCLfA+ZExFMa2vYA1tZ9e0XEjg19+wPLujCuJEkacB0fmsnMn0XE5cBnIuJYqvNCTqe6idk3gduA8+tLeg+lupLmqE7HlSRJg69bNzR7FfBj4FvAV4AvA+/IzEmqm5w9ClhBdefVwzLz1i6NK0mSBlhXbvFe3yfk9fVXc98twIHdGEeSJA0XH3onSZKKMYhIkqRiDCKSJKkYg4gkSSrGICJJkooxiEiSpGIMIpIkqRiDiCRJKsYgIkmSijGISJKkYgwikiSpGIOIJEkqxiAiSZKKMYhIkqRiDCKSJKkYg4gkSSrGICJJkooxiEiSpGIMIpIkqZg53dxZRHwSeEJmPrN+vRA4B1gI3Awcl5nLuzmmJEkaXF1bEYmI5wBHNbzeEbgSWAbsA1wDXBERc7s1piRJGmxdCSJ16PgEsLSh+QjgfuCUzLwZOAm4u26XJEnq2orI+4B/q7+mLQKWZuZGgMycogoqi7s0piRJGnAdB5GIWAwcDrylqWsBsLKpbTWwS6djSpKk4dDRyaoRMQZ8CjgxM/8rIhq7x4ENTW/ZAIy1su/R0REmJsY7md7QGcR6jI5uM5DzHkTWun+sdX9Z7/7qd607vWrmNOBnmfnFGfruY9PQMQasa2XHk5NTrFnT0qZtmTdvcM+V7UU9em1iYnwg5z2IrHX/WOv+GsR6+1mzqc3VpNMg8gpgQUTcW7/eDhitX38OmN+0/XxgVYdjSpKkIdHpOSLPBP4XsFf9dR7wg/rnZcCSiBgBqL8vqdslSZI6WxHJzNsaX0fEfwHrM/OWiLgTOB04KyLOBo4BdgYu6WRMSZI0PHp2i/fMvAc4hGoV5HpgP+DgzFzbqzElSdJg6eot3jPz1KbXy4G9uzmGJEkaHj70TpIkFWMQkSRJxRhEJElSMQYRSZJUjEFEkiQVYxCRJEnFGEQkSVIxBhFJklSMQUSSJBVjEJEkScUYRCRJUjEGEUmSVIxBRJIkFWMQkSRJxRhEJElSMQYRSZJUjEFEkiQVYxCRJEnFzOl0BxGxO3AmsD/w38DngXdm5n0RsStwHrAf8Cvg5My8stMxJUnScOhoRSQitgO+CmwAlgBHAn8BvC8iRoDLgbuAfYELgEsj4vEdzViSJA2NTldEng48AXh6Zt4L3BwR7wLOAK4AAjggM9cCP42Ig4CjgFM7HFeSJA2BTs8RSeDgOoRMmwLGgEXADXUImXYtsLjDMSVJ0pDoaEUkM/8TuHr6dURsAxwPXAMsAFY2vWU1sEsnY0qSpOHR8cmqTc4AnkZ1TsjJVOeONNpAtVoyq9HRESYmxrs7uwE3iPUYHd1mIOc9iKx1/1jr/rLe/dXvWncliNQnpp4JvAl4WWb+JCLuAx7WtOkYsK6VfU5OTrFmTUubtmXevLld32e/9KIevTYxMT6Q8x5E1rp/rHV/DWK9/azZ1OZq0vF9ROrDMZ8G3ggckZmX1123A/ObNp8PrOp0TEmSNBy6cUOzDwOvAF6SmZc1tC8D9oqIHRva9q/bJUmSOjs0ExGLgBOBvwZ+EBGNKyDfBm4Dzo+IdwOHUl1Jc1QnY0qSpOHR6YrIy+rvH6A65NL4NQK8GHgUsAJ4NXBYZt7a4ZiSJGlIdHr57luAtzzIJrcAB3YyhiRJGl4+9E6SJBVjEJEkScUYRCRJUjEGEUmSVIxBRJIkFWMQkSRJxRhEJElSMQYRSZJUjEFEkiQVYxCRJEnFGEQkSVIxBhFJklSMQUSSJBVjEJEkScUYRCRJUjEGEUmSVIxBRJIkFWMQkSRJxczp9QARMQacBRwObADOyMwP9XpcSZK05evHisg/AEuAg4BjgVMj4i/7MK4kSdrC9TSIRMSOwDHAiZm5IjMvBz4EHN/LcSVJ0mDo9YrIQmAMuLah7Vpg34jo+WEhSZK0Zet1EFkA/C4z72toWw1sB8zr8diSJGkL1+sgMk51gmqj6ddjPR5bkiRt4UampqZ6tvOIOBz4eGY+sqHtycBPgUdn5p0P8vb/BG7r2eQkSVI/7coMR0N6fZ7G7cAfRcR2mfn7um0+1arI72Z5r4duJEkacr0+NPND4PdUl+9O2x9YkZkP9HhsSZK0hevpoRmAiDgH+DPgtVSrIRcCb8jMz/d0YEmStMXrxyW0JwMfB74F3AO8xxAiSZKgDysikiRJm+ND7yRJUjFDd3fTdh6yFxELgXOo7gB7M3BcZi7v11yHQZv1PgJ4F/B44Bbg1Mz8ar/mOugeygMkI+LhVL/bb8/M83s+ySHR5u/1k4CzgUXAb4C/zsxL+zXXYdBmvQ8AzgSeBPwMeFtmXtWvuQ6LuuYrqB7BcvVmttkVOA/YD/gVcHJmXtntuQzjikhLD9mrn4NzJbAM2Ae4BrgiIub2ca7DoNV6H0B1ovJHqILfp4DLIuJpfZzroHsoD5A8E3hUryc2hFr9vd4JuJoqgCwEPgZcHBF79HGuw6DVej8K+CrwReCpwBeAr9QfmGpRRGwPXAzs+SDbjACXA3cB+wIXAJdGxOO7PZ+hCiJtPmTvCOB+4JTMvBk4Cbi7blcL2qz3a4BLM/O8zLwlMz8K/CvWuyUP5QGSEfEC4OlUNwdUi9qs9aup/o4clZk/q3+vrwIW923CA67Neu8HkJmnZ+bPM/P9wHqq1Si1oA7Jy4DdZ9n0WUBQXeX608w8HfgucFS35zRUQYT2HrK3CFiamRsBMnMKWIp/QNrRTr3PAv6+qW0K2L530xsqbT1Asl7ZOwd4A9W9fNS6dmr9bOCfM/P+6YbMPDQzP9X7aQ6Ndup9F/CwiDg8IkYi4i+AucCP+zPVoXAArYXlRcANmbm2oe3aFt7XtmE7R2S2h+ytato2m96/GtirpzMcLi3XOzN/1PjGiNgTeA5wbh/mOQza+d2G6n+UX8/M70REn6Y4NNqp9e7ADRFxNnBY3XdaZn6tX5MdAu3U+xqqw1+fBzYCo8DR9aq2WpCZ//M3d5a/DQuAlU1tq4Fduj2nYVsRaeche5vb1ofxte4hPdSwPs77Zao/Kl/pzdSGTsu1jogDgRcCb+vDvIZRO7/Xc4G3AmuAg6k+IL8SEfv0dIbDpZ1670h1svt7qc5beDvwkYjw0Ez39e0zcthWRO5j0yJNv17X4rbN22nz2qk3ABGxC9Wy4CTwsulDY5pVS7WOiB2ATwInZObdfZrbsGnn9/oB4MbM/Jv69Q31idlvoDrpUrNrp95vBcYy87T69Q316uqpwKG9m+JW6T7gYU1tPfmMHLYVkf95yF5D2+Yesnd73UfTts1L3Nq8dupNRPwJ1SrIFPDMzLyrL7McDq3W+unAE4ALI+LeiLgXeAxwTv24Bc2und/rlcC/N7Ul8Me9m97Qaafe+wI3NbWtAP6kd9PbavXtM3LYgkg7D9lbBiypL1GavlRpSd2u1rRc7/p+Fv9CdWXSgZm5um+zHA6t1vr7wBOpznWa/loNnFZ/aXbt/B35HrB3U9sewK09m93waafeK6ku2230ZODnvZveVmsZsFd9VdO0/enBZ+RQHZrJzHURcQFwdkS8liq9vYVqmZSImA/cnZnrgS8BpwNn1SeaHQPsDFxSYu6DqM16vw94JPBSYE7dB7DeQwiza7PWtzS+NyImgTsz887+znowtVnrc4H/GxEfBD5BdW7OQVQrU2pBm/X+BPDdiHgb1d/wZwGvozo/Rx2KiHlUf5PvBb4N3AacHxHvpjr0tQgv323JycByqofsncMfPmRvFfV9KzLzHuAQqhR+PdX16Qc3Xaqk2bVUb6o7Ju4M3FC3T3/9U19nO9harbU61+rfkV8Bz6X6QPwJ1YfnSzPzhr7PeLC1Wu/vAy+qX/8YOBE4MjO/1fcZD6flVCGQzJwEXkx1Q8QVVPfMOSwzb+32oD70TpIkFTOMKyKSJGlAGEQkSVIxBhFJklSMQUSSJBVjEJEkScUYRCRJUjEGEUkDKyLOj4iLSs9D0kM3VHdWlbTVeXPpCUjqjDc0kyRJxbgiImlGEbEY+BCwD9UTk6+hes7Ec4GjgauAE4AHgM8DJ2fmxojYFng/8HLg0VQPKjs9Mz9e73cM+CBwJNXh4W8CJ2Tm6ojYDfgl1a2lP0r1fKJzgfPrryfV2788M/87Is4H5mTmK+t9vx04FtgFuAs4r+GR8ZK2QJ4jImkTETEXuAK4GtgTeB7Vo9bfWW/ydKqnzB5Qt50APL/uezvV80BeBgRVgDgrIh5T978fWEz1EK0Dqf4OfW36Sdi1d9T7OI7qOSRfAt4GvKB+z+tnmPMrqZ6TcQzwp8DfAe+KCB9AJ23BDCKSZrIjVWB4T2b+MjOXApdShRKoVlOPzcx/z8xPAz8C9q37bgKOzsxlmfmLej+jQETEOHA8cFxmXpeZNwGvqve7f8P4783MH2fmRcDvgEsy85uZ+R3g36hWRprdDryu3u7WzDwHuKNhzpK2QB6akbSJzLyjPuxxUkTsRbX6sRC4rt7kt5l5d8Nb7gG2rd/7lYh4bkR8mCow7F1vM0q1qrIdcE1ENA65PdUqxq/r179o6FtP9TjyxtdjM8z5XyPiGRHxAeDJwNOoHik/2sY/XVKfuSIiaRMR8VjgRuAgqkeAnwR8uGGT38/wtpH6ve8FPkd17siFwKKGbab/83MgsFfD159SHX6Z9kDTvje2MOejqM4f2QG4DHgO8JvZ3iepLFdEJM3kMOCezDx4uiEiTqAOG7M4jurk04vr9+1Rt48APwcmgUdm5oq6/2FUgeVUqpWVh+qNwPsy8wP1fieoTpZtZc6SCjGISJrJXcBjI+K5VOHhcOClwA0tvvfQiLgOWEB19QvAWGaujYjzgI9FxLHUV9QATwV+RhUcOpnzcyLiMmAnqnNTtmWGwziSthwempE0ky9QrVJ8gerQzHOoDs8E1aGPB/N64CnAT4DPAl8EllGdswHVVTDfoLrkd3m9v+dl5voO5/xmYJwqLH2Z6tDSpQ3jStoCeUMzSZJUjCsikiSpGIOIJEkqxiAiSZKKMYhIkqRiDCKSJKkYg4gkSSrGICJJkooxiEiSpGIMIpIkqZj/DztXTk0weACKAAAAAElFTkSuQmCC\n",
      "text/plain": [
       "<Figure size 648x360 with 1 Axes>"
      ]
     },
     "metadata": {
      "needs_background": "light"
     },
     "output_type": "display_data"
    }
   ],
   "source": [
    "plt.hist(heart_df.anaemia)\n",
    "plt.xlabel('anaemia');"
   ]
  },
  {
   "cell_type": "markdown",
   "metadata": {},
   "source": [
    "There are less people(heart failures) who are having anamia when compared to people not having anania."
   ]
  },
  {
   "cell_type": "code",
   "execution_count": 22,
   "metadata": {},
   "outputs": [
    {
     "data": {
      "text/plain": [
       "1    194\n",
       "0    105\n",
       "Name: sex, dtype: int64"
      ]
     },
     "execution_count": 22,
     "metadata": {},
     "output_type": "execute_result"
    }
   ],
   "source": [
    "sex_count=heart_df.sex.value_counts()\n",
    "sex_count"
   ]
  },
  {
   "cell_type": "code",
   "execution_count": 23,
   "metadata": {},
   "outputs": [],
   "source": [
    "gender=['male','female']\n",
    "deaths=['alive','dead']"
   ]
  },
  {
   "cell_type": "code",
   "execution_count": 24,
   "metadata": {},
   "outputs": [
    {
     "data": {
      "image/png": "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\n",
      "text/plain": [
       "<Figure size 864x432 with 1 Axes>"
      ]
     },
     "metadata": {
      "needs_background": "light"
     },
     "output_type": "display_data"
    }
   ],
   "source": [
    "plt.figure(figsize=(12,6))\n",
    "plt.title('Gender')\n",
    "plt.hist(heart_df.sex,bins=2);"
   ]
  },
  {
   "cell_type": "markdown",
   "metadata": {},
   "source": [
    "There are more men than women suffering from heart failure."
   ]
  },
  {
   "cell_type": "code",
   "execution_count": 25,
   "metadata": {},
   "outputs": [
    {
     "data": {
      "text/plain": [
       "0    203\n",
       "1     96\n",
       "Name: DEATH_EVENT, dtype: int64"
      ]
     },
     "execution_count": 25,
     "metadata": {},
     "output_type": "execute_result"
    }
   ],
   "source": [
    "death_count=heart_df.DEATH_EVENT.value_counts()\n",
    "death_count"
   ]
  },
  {
   "cell_type": "code",
   "execution_count": 26,
   "metadata": {},
   "outputs": [
    {
     "data": {
      "image/png": "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\n",
      "text/plain": [
       "<Figure size 864x432 with 1 Axes>"
      ]
     },
     "metadata": {},
     "output_type": "display_data"
    }
   ],
   "source": [
    "plt.figure(figsize=(12,6))\n",
    "plt.title('Percent of deaths')\n",
    "plt.pie(death_count, labels=deaths, autopct='%1.1f%%', startangle=180);"
   ]
  },
  {
   "cell_type": "markdown",
   "metadata": {},
   "source": [
    "Majority of the patients couldn't survive."
   ]
  },
  {
   "cell_type": "code",
   "execution_count": 27,
   "metadata": {},
   "outputs": [
    {
     "data": {
      "image/png": "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\n",
      "text/plain": [
       "<Figure size 1440x720 with 1 Axes>"
      ]
     },
     "metadata": {
      "needs_background": "light"
     },
     "output_type": "display_data"
    }
   ],
   "source": [
    "plt.figure(figsize=(20,10))\n",
    "sns.barplot(heart_df.serum_sodium,heart_df.serum_creatinine);"
   ]
  },
  {
   "cell_type": "markdown",
   "metadata": {},
   "source": [
    "Patients with sodium level equal to 146(mEq/L) are having the highest level of creatinine(6.9(mg/dL))."
   ]
  },
  {
   "cell_type": "code",
   "execution_count": 28,
   "metadata": {},
   "outputs": [
    {
     "data": {
      "image/png": "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\n",
      "text/plain": [
       "<Figure size 648x360 with 1 Axes>"
      ]
     },
     "metadata": {
      "needs_background": "light"
     },
     "output_type": "display_data"
    }
   ],
   "source": [
    "# sodium vs deaths \n",
    "plt.hist(heart_df[heart_df.DEATH_EVENT==1].serum_sodium,bins=15)\n",
    "plt.xlabel('serum_sodium')\n",
    "plt.ylabel('No.of deaths');\n"
   ]
  },
  {
   "cell_type": "markdown",
   "metadata": {},
   "source": [
    "Therefore, high values of serum_sodium leads to death among heart failures. The highest is for a level around 135.\n",
    "The graph seems to be left skewed as there are many low value datapoimts on the left side."
   ]
  },
  {
   "cell_type": "code",
   "execution_count": 29,
   "metadata": {},
   "outputs": [
    {
     "data": {
      "image/png": "iVBORw0KGgoAAAANSUhEUgAAAi0AAAFFCAYAAAAgpt3YAAAABHNCSVQICAgIfAhkiAAAAAlwSFlzAAALEgAACxIB0t1+/AAAADh0RVh0U29mdHdhcmUAbWF0cGxvdGxpYiB2ZXJzaW9uMy4xLjEsIGh0dHA6Ly9tYXRwbG90bGliLm9yZy8QZhcZAAAeL0lEQVR4nO3dfbylc73/8de254ZhtCvjkDqNxAfViXoQwqmTTh1UcnQjJZJDqByccpfUSRwilKSQVLoXyVEeUg5F5ySRu0/Rbyj30TSGmWG2/fvjuhZrtr3XrDGz1nVde7+ej8d+zF7XutZ1fda6zKy37901MDIygiRJUt2tVHUBkiRJ3TC0SJKkRjC0SJKkRjC0SJKkRjC0SJKkRjC0SJKkRphSdQHL64knnhgZHnbadhUGBwfws68vr0+9eX3qzetTnalTB/8CzBrrucaHluHhEebOfbTqMialoaEZfvY15vWpN69PvXl9qjNr1sw7xnvO7iFJktQIhhZJktQIhhZJktQIhhZJktQIhhZJktQIhhZJktQIhhZJktQIhhZJktQIhhZJktQIhhZJktQIhhZJktQIjb/3UC+ttvoqrDK9/x/RgkWLmT9vQd/PK0lSnRlaOlhl+hRmH3px388757gdmN/3s0qSVG92D0mSpEYwtEiSpEYwtEiSpEYwtEiSpEYwtEiSpEYwtEiSpEYwtEiSpEYwtEiSpEYwtEiSpEYwtEiSpEYwtEiSpEYwtEiSpEYwtEiSpEYwtEiSpEYwtEiSpEYwtEiSpEaY0s+TRcSGwOeBLYAHgc9n5gnlcy8Evgy8GrgTOCgzL+lnfZIkqb761tISEVOBSygCySbA/sDHImK3iBgALqQIMpsBXwW+HxHr9qs+SZJUb/1saVkH+F9g/8xcANwWEZcB/wjcAwSwTWY+DNwcEdsBewFH9rFGSZJUU30LLZk5B3gHQNmyshWwLUWLyxbAdWVgabkK2KZf9UmSpHqraiDunylCydXA94C1gbtH7XMf8Pw+1yVJkmqqrwNx27wFeB5wOvBZYAawaNQ+i4DpSzvQ4OAAQ0MzVniBVWvCexocXKkRdU5WXp968/rUm9ennioJLZn5a4CImEEx6PZs4FmjdpsOPLq0Yw0PjzB37lJ3e0ZmzZrZk+N2o1fvaUUaGprRiDonK69PvXl96s3rU51O3739nD20TkS8edTmm4FpFANx1xr13FrldkmSpL6OadkIOD8i1mzb9krgAYrxLZtExKptz20NXNPH+iRJUo31s3voCoqWlXMi4mBgPeA44JjyuTvK544GdqSYUbRXH+uTJEk11reWlsx8nCKMLAZ+BZwBnAycmpnDFINz1wSuBXYH3lpOk5YkServQNzMvBMYPa6l9dxtFAvNSZIkPY03TJQkSY1gaJEkSY1gaJEkSY1gaJEkSY1gaJEkSY1gaJEkSY1gaJEkSY1gaJEkSY1gaJEkSY1gaJEkSY1gaJEkSY1gaJEkSY1gaJEkSY1gaJEkSY1gaJEkSY1gaJEkSY1gaJEkSY0wpeoC9HQLHx9m1qyZlZx7waLFzJ+3oJJzS5LUiaGlhlaeOsjsQy+u5NxzjtuB+ZWcWZKkzuwekiRJjWBokSRJjWBokSRJjWBokSRJjWBokSRJjWBokSRJjWBokSRJjWBokSRJjdDXxeUiYj3gZGBr4BHg28ARmbkwIr4E7D3qJf+emSf3s0ZJklRPfQstETENuAi4GdgKWBM4u3z6YGBj4D+Ar7e9bF6/6pMkSfXWz5aWzYEXA5tn5nzgloj4GHASRWjZCDgyM+/tY02SJKkh+jmmJYHty8DSMgJMj4i1gOeU+0iSJD1N31paMvMB4LLW44hYCTgAuJKia2gx8J8R8S/AX4DPZuY5/apPkiTVW5Wzh04CNgUOo+gaArge+BfgLOCMiHhbRbVJkqSa6evsIYCIGKCYQbQfsEtm3hQRNwPfzMyHyt1uiIj1gQ8A3+10vMHBAYaGZvS05smm289zcHAlP/sa8/rUm9en3rw+9dTvKc8rUbSi7Aa8IzMvBMjMEeChUbvfAvzz0o45PDzC3LmPruhSAZg1a2ZPjlt33X6eQ0MzevbZa/l5ferN61NvXp/qdPru7Xf30InAu4CdM/P81saIODEifjRq302BW/tZnCRJqq9+rtOyBXAgxRiWX5czhlp+CFweER8CLgbeCOwOvK5f9UmSpHrrZ/fQLuWfx5Y/7aYCuwJHAccDfwR2zcyr+leeJEmqs35OeT4EOKTDLt8pfyRJkp7GGyZKkqRGMLRIkqRGMLRIkqRGMLRIkqRGMLRIkqRGMLRIkqRGMLRIkqRGMLRIkqRGMLRIkqRGMLRIkqRGMLRIkqRGMLRIkqRGMLRIkqRGMLRIkqRGMLRIkqRGMLRIkqRGmNLtjhHxeuD6zLw/It4LvB34NfCpzHy8VwVKkiRBly0tEXEocAHwooh4NXAmcDfwDuAzvStPkiSp0G330L7A2zPzGuA9wC8zc29gd+CdvSpOkiSppdvQsiZwQ/n7jsBF5e8PAqus6KIkSZJG63ZMy83AHhFxP/A84MKImAb8B/DbXhUnSZLU0m1oOQT4HvAc4NjM/ENEnAa8maLlRZIkqae66h7KzJ9TdBE9NzOPKDd/EnhhZv6mR7VJkiQ9qespz8DqwIYRsTIw0NoYEWTm5Su8MkmSpDZdhZaIeDfFNOdpYzw9AgyuyKIkSZJG67al5RjgVIqF5Ob1sB5JkqQxdTvl+bnAFwwskiSpKt2Glgsolu2XJEmqxLjdQxFxbtvD1YBjI2Jn4HZguH3fzNy9m5NFxHrAycDWwCPAt4EjMnNhRLwQ+DLwauBO4KDMvGQZ3oskSZrAOrW0DLf9/BU4F7gFeGzUc4u7OVG5GN1FwCJgK2A3YCfgmIgYAC6kWGF3M+CrwPcjYt1lf0uSJGkiGrelJTP3bP0eEdsCV4++m3NETAfe2OW5NgdeDGyemfOBWyLiY8BJwMVAANtk5sPAzRGxHbAXcOQyvB9JkjRBdZw9VLaADAA/A9Ypl/Fv9zLgW3R3/6EEti8DS8sIMB3YAriuDCwtVwHbdHFcSZI0CXQa07IPcDpFsBgA7hpn10u7OVFmPgBc1nb8lYADgCuBtYG7R73kPuD53RxbkiRNfJ26h86IiFsoxr1cDuwCPNS2ywgwH/jdMzz3ScCmFGNYDqIY69JuEUUrTEeDgwMMDc14hiVotIWPDzNr1syu91+WfZd2XlcoXLEGB1fy70aNeX3qzetTTx27hzLzfwDKAbF3ZubI8p6w7HI6GdgP2CUzb4qIhcCzRu06HXh0accbHh5h7tyl7vaMrKgv5CZZeeogsw+9uO/nnXPcDjzwwMNL31FdGxqa0bO/G1p+Xp968/pUp9N3b7cr4j4IHBwRL+GpJfsHKILFJpm5QTcHKbuEzqKYOfSOzLywfOou4OWjdl8LuKfL+iRJ0gTX7eJyZwIfoQgpu5av24Ciy+jry3C+E4F3ATtn5vlt268BNomIVdu2bV1ulyRJ6rql5Y0UXTmXla0tn83MayPiRIoZREsVEVsABwKHAb+OiLXanr4CuAM4JyKOBnakmFG0V5f1SZKkCa7blpbpwO/L32+iGDwL8EVg2y6PsUv557EU3T7tPwPAW4A1gWuB3YG3ZuacLo8tSZImuG5bWm4GXk8xHuVGivVTvgg8my5m+ABk5iHAIR12uQ34xy7rkSRJk0y3oeXjwPciYhD4GsWKtZcALwV+3KviJEmSWrrqHsrMHwEbApdn5p8obmp4I3Aa8L7elSdJklTotqWFzJwTEetExGspZvV8JjPv611pkiRJT+kqtETEasA5wM7AExTTnT8bEbOAnTJz9D2JJEmSVqhuZw+dCDwXWBdYUG47mGIp/1N7UJckSdISug0tbwYOysw7Whsy8zaKpfj/uReFSZIktes2tKwCPDbG9ukUa6xIkiT1VLeh5ULg2IgYKh+PRMT6wOeAH/WkMkmSpDbdhpYPAo9T3DhxVeB64Nby8Yd7U5okSdJTupo9lJnzgH+NiBcBG5Wvy8y8tZfFSZIktYwbWiLi78fYvBj43eh9MvPOFV+aJEnSUzq1tMyhmNLcjcHlL0WSJGl8nca0rE+xiNwGwIeAP1BMfX4eMAt4A0WrywE9rlGSJGn8lpbMvL31e0R8BHh7Zv6qbZfLImJv4IfA6b0rUZIkqfvZQ6szdsB5FjB1xZUjSZI0tm5vmPgN4GsR8XHgBooF5TYDjgbO6E1pkiRJT+k2tBwIzAM+QzGeBeA+4DTgmB7UJUmStIRu12lZDBwOHB4Ra5Tb/tLLwiRJktp129LyJMOKJEmqQrcDcSVJkiplaJEkSY0wbmiJiJ9HxJrl77tHxPT+lSVJkrSkTmNaNgc2iYifAl8BLo2I+8faMTOf6EVxkiRJLZ1Cy1eAH1Pcf2gAuKvDvt57SJIk9VSnZfz3j4gvAUPAz4BdgIf6VZgkSVK7jlOeM/N6gIjYE/jvzFzUl6okSZJG6XZxua9GxL+WN07csHxdAp/LzK/0skBJkiToMrRExH7A8cDngE9RjGHZCjg1IqZk5peX5aTlTKRrgQMz87Jy2+E8/ZYAp2TmgctybEmSNDF1uyLuIcB+mXlu27YLIuJG4Aig69ASESsD5wEvGfXUxsCpwLFt2x7p9riSJGli6za0rAn8coztVwN/3+3JImJjisAyMMbTGwOnZua93R5PkiRNHt2uiHsd8N4xtu8B3LQM59sGuBTYsn1jRAwAQTFORpIk6Wm6bWn5CPDTiNgO+FW57VXAy4Aduj1ZZp7R+j0i2p9aF5gB7B0R3wIeBc4GTnThOkmSBN3PHro6Il4B7A1sBCwELgd2ycxOi851a6Pyz7uAHYFXAKeU207o9MLBwQGGhmasgBJUNa/jijU4uJKfaY15ferN61NP3ba0kJm3Agf3oojMvDgi1sjMB8tNv4uINYD9WUpoGR4eYe7cR3tRFrNmzezJcTW2Xl3HyWpoaIafaY15ferN61OdTt+9y3WX54hYNSKOWp5jtLQFlpZbgOetiGNLkqTmW67QAqwC7Lm8RUTEhyPihlGbN8WBuZIkqdR199BYMvMvFINol9ePgWMj4ljgLIo7TH8U2HcFHFuSJE0AyxRaImIjikGzg0Bm5ujWkWckMzMi3gQcB3wYuBf4aGaetyKOL0mSmq/bZfyfDZxLMb35rxShZWZEXAm8JTP/tqwnzsyBUY9/Cmy2rMeRJEmTQ7djWj4HrAVsmJnPzcwhijVaZgAn9ao4SZKklm5Dy5uAfTPz960NmXkzxZTknXpRmCRJUrtuQ8uCcbaPUHQVSZIk9VS3oeWHwGkRsUFrQxTr8H8euKgXhUmSJLVblnsPXQDcGhHzym0zgYuBD/aiMEmSpHbd3ntoLvCaiPgHYEOKew/d2j7GRZIkqZfGDS0RMVbX0Y3lzxL7eCdmSZLUa51aWhZTDLRdmpGlHEeSJGm5dQobr+3w3DrAp4DZwLdWZEGSJEljGTe0ZOYVo7eV3UEfAo4G7gG2y8zLe1adJElSqetunYjYEvgCsAFwDHBCZj7eq8IkSZLaLTW0RMRzgOOBPYEfATtl5h29LkySJKldx9ASEXtR3Hn5YeCtmfnDvlQlSZI0Sqcpz78AtgDuoLgp4hoR8b6x9s3Ms3tTniRJUqFTS8s6wJ3AAHBwh/1GAEOLJEnqqU6zh2b3sQ5JkqSOur1hoiRJUqUMLZIkqREMLZIkqREMLZIkqREMLZIkqREMLZIkqREMLZIkqREMLZIkqREMLZIkqREMLZIkqREMLZIkqRE63TCxZyJiOnAtcGBmXlZuew5wBvAG4CHg45n51SrqkyRJ9dP3lpaIWBn4JvCSUU+dAzwXeDXwSeCMiNiqv9VJkqS66mtLS0RsDJwHDIzavh7wJmD9zLwN+F0ZWPYDftnPGiVJUj31u6VlG+BSYMtR218F3FMGlparxthPkiRNUn1tacnMM1q/R0T7U2sDd4/a/T7g+X0oS5IkNUAlA3HHMANYNGrbImBaRAxk5sh4LxwcHGBoaEZPi1N/eB1XrMHBlfxMa8zrU29en3qqS2hZCEwftW06sKBTYAEYHh5h7txHe1LUrFkze3Jcja1X13GyGhqa4WdaY16fevP6VKfTd29d1mm5C1hr1La1gHsqqEWSJNVQXULLNcA6ETG7bdvW5XZJkqR6dA9l5h8j4ifAuRFxAPBKYDfgtdVWJkmS6qIWoaW0O3Am8CvgXuD9mXl1tSVJkqS6qCy0ZObAqMf3A2+uqBxJklRzdRnTIkmS1JGhRZIkNYKhRZIkNYKhRZIkNYKhRZIkNYKhRZIkNYKhRZIkNYKhRZIkNYKhRZIkNYKhRZIkNYKhRZIkNYKhRZIkNYKhRZIkNYKhRZIkNYKhRZIkNYKhRZIkNYKhRZIkNYKhRZIkNYKhRZIkNYKhRZIkNYKhRZIkNYKhRZIkNYKhRZIkNYKhRZIkNYKhRZIkNcKUqguQABY+PsysWTP7ft4FixYzf96Cvp9XkrTsDC2qhZWnDjL70Iv7ft45x+3A/L6fVZL0TNQqtETEu4BvjNp8YWbuVEU9kiSpPmoVWoCNgR8A+7VtW1hRLZIkqUbqGFpuyMx7qy5EkiTVS91mD20MZNVFSJKk+qlNS0tETAPWA3aMiE9SBKrvAh/PzEWVFidJkipXm9ACrE9RzyPALhQB5hRgJrD/eC8aHBxgaGhGXwrUxDRR//sZHFxpwr63icDrU29en3qqTWjJzJsiYo3MfLDcdH1EDADfjIgPZ+bisV43PDzC3LmP9qSmKtYNUf/16r+fqg0NzZiw720i8PrUm9enOp2+e2s1pqUtsLTcAkwFZlVQjiRJqpHatLRExM7A6cALMvOxcvOmwFzA2USSJE1ytQktwBXAAPCliPg0xRiXE4ATMnOk0sokSVLlatM9VHYNvQF4IfAb4EvAF4Fjq6xLkiTVQ51aWsjM64DXVl2HJEmqn9q0tEiSJHViaJEkSY1gaJEkSY1gaJEkSY1gaJEkSY1gaJEkSY1gaJEkSY1gaJEkSY1gaJEkSY1QqxVxpX5b+Phwx9ug99KCRYuZP29BJeeWpCYytGhSW3nqILMPvbiSc885bgfmV3JmSWomu4ckSVIjGFokSVIjGFokSVIjGFokSVIjGFokSVIjGFokSVIjOOVZqkg/1ogZ6/iuDyNNHKutvgqrTO//V3lV/44YWqSKVLVGjOvDSBPHKtOnTKp/R+wekiRJjWBokSRJjWBokSRJjWBokSRJjWBokSRJjWBokSRJjeCUZ2mS6cf6MOOpam2HqtaygMn3nl0HSL1kaJEmmarWh4Hq1naoai0LmHzv2XWA1Eu1Ci0RMR34HPA2YBFwUmYeX21VkiSpDuo2puUEYCtgO2Af4MiIeGe1JUmSpDqoTWiJiFWBvYEDM/PazLwQOB44oNrKJElSHdQmtAAvB6YDV7VtuwrYLCJq1Y0lSZL6r06hZW3gocxc2LbtPmAaMKuakiRJUl3UKbTMoBh82671eHqfa5EkSTUzMDIyUnUNAETE24DTM3ONtm0bATcDf5eZ94/z0geAO/pQoiRJ6r0XMk4PS53GitwFPDsipmXmY+W2tShaWx7q8Dq7jiRJmgTq1D30W+AxiinPLVsD12bm4mpKkiRJdVGb7iGAiPgisC2wB0Ury9eAf8vMb1dZlyRJql6duocADgJOBy4H5gGfNLBIkiSoWUuLJEnSeOo0pkWSJGlcdeseUgNExHrAyRQDpR8Bvg0cMWphQFUsIs4EXpyZr6m6FhUiYirwX8DuwADwHYpbl4xeo0oViIhnU9y0d3tgAcW4yiMyc7jSwvQkQ4uWSURMAy6iWD9nK2BN4Ozy6YOrqktLiojXAXsBV1Rdi5ZwArAT8BZgBDgPeBA4ssqi9KQvUKzOvi3Fchqt63NClUXpKXYPaVltDrwY2CMzb8nMK4CPAbtVW5ZaypuPfgn4RdW16CkRMQR8ANg7M3+Rmb8EjgZeWWlharc9cHJm3piZP6MILf9UcU1qY0uLllUC22fm/LZtI3irhTo5Bvg5cA9FF57qYWuKLofLWhsy8xzgnIrq0dM9COwWEZcCQ8AbgR9UW5LaGVq0TDLzAdr+0Y2IlYADgCsrK0pPiogtgbcBL8XuurpZD5gD7BoRRwCrAd8FDm9bBVzV2o9iHMvDFD0Rl1O0hqkm7B7S8joJ2BQ4rOpCJruImA6cRTGw869V16OnmQmsC3wQ2AfYF9gFOL7KorSEFwPXUYxp2R6YDXymyoK0JEOLnpGIGIiIU4D9gV0z86aqaxJHAX/IzO9WXYjGtBhYHXh3Zl6VmZcAhwD7lC2WqlDbrMj3lWOOLgHeDxwQEX9XbXVqsXtIy6z8B/YsisG378jMCysuSYV3AWtHRGu80TRgMCLmZ+ZqFdalwt3A4sy8vW1bAitTzFS5r5Kq1PJK4OHM/HPbtmuBQYq7Dnt9asB0r2fiRIovyJ0z8/yqi9GTXkMxlmWT8ufLwK/L31W9q4EpEfGytm0bU4yfeLCaktTmbmAoIl7Qtm2j8s8/VlCPxuAy/lomEbEFxT++hzFq1kNm3ltFTRpbRHwK2NrF5eojIi4Ank8xpmUGcC5wfmY6aLpiETEF+D+KAHkQxfU5A7g+M3evsjY9xZYWLatdyj+PpZhS++RP+Zde0vjeA9xAMSvlAorptIdWWpEAyMzFwA7AQxTX53yKxRn3qbIuLcmWFkmS1Ai2tEiSpEYwtEiSpEYwtEiSpEYwtEiSpEYwtEiSpEYwtEiSpEYwtEialCJiWkTs0/b45+WCfN28dk5EvL931Ukai4uBSZqsdgU+RrHqKcDOwGNdvnYzYP5S95K0QhlaJE1WA+0PMvOhbl+YmQ+s+HIkLY0r4koTVETsBxwCPA/4PXB4Zv4oIp4PfB54PcV9Vs4DjsrMxyJiD2Bf4M/l8wcD7wauyswjy+POBv4fsH5m3hYRIxStFh+nuBvuD4AjgbOBV1Hcz+WdmXlPFzUPAkcB7wdmAj8D9s3MeyLi58CNwBuBVYCXU9whecz3Uh5vT+AjwHrAPOC7wAeBrctjt6xLcS+tqzLzyIg4B/gbsCbwZuAu4NOZeU553DnApzLzzLKunwKvBrYFbgc+mpn/Xe77LOBUYCdgAfBD4ODMfHhpn4ekJTmmRZqAImJT4GTg34EAvg18JyKeTREq/gq8EtgN2JHiXlItrwL+AGwOXNTlKT8B7Am8CXg78AuKMLE1MJsiPHXjaGDv8mdzinBybtvzewJ7AG+hCCnjvpeI2Br4AnAEsD5FGNuTohvol8CBFPfNWhv40xi1fAC4DngF8BPg9Ih4zjh1HwZ8q6zjVuDMMoBBEd7WALahuLdNMOpmo5K6Y/eQNDHNBkaAOzLzjog4lqLFYyvgRcAWmTkM3BoR+wOXRsRH217/6VZLQER0c75TMvOacv8bgBsz8/vl4wuADZd2gIgYoLg53eFtrRQfAPaKiNb/YF2SmVeVz71uKe9lAbBXZp5fvvaOiDgYeElmfici/gY80bo7+Rjv83eZeXz53BHAAcBLgf8Zo/xL2lph/hO4HlgnIqYCbwXWaHU/RcTuwJyIeEFmjhWWJI3D0CJNTD8BrgKui4gbKbokzgK2B4aAv7V9SQ8A0yi6dgAefAZdF39s+30BcMeox9O7OMYawCzg2taGzLwdOByeDBVz2vbfiA7vJTOvjYgFEfEJ4CXAyyhaXH7a5Xu6va2OeeU5pi5tX4puqNa+G5U13TlGKNqAsVt4JI3D0CJNQJn5aERsR9E9syOwC0VLwYkUXT87jvGy1hfowlHbRw98G+vfjcWjHj+xTAUXupm5017bFDq8l4h4A3AhRffSjym6sL6wnPUMjLGt075TgEeATcZ4fqljfCQtyTEt0gQUEVsCR2bmlZn5UYr/47+P4ov0BRStKbdl5m3AWhTjQMb79+AxYPW2xy/qRc2Z+TfgAWDT1raIWD8i7htnLEnS+b3sDXw1M/8tM88EbqEYkNsKHv2YhZDAqsBgW40AJ7HkZyqpC7a0SBPTAuCoiLifoqtoE4ov+GsounK+ERGHATOAM4HrM3PhOONX/g/4QER8HRimaLHo1Rf+KcAnIuJPFDOYTgF+k5kPjVHbpXR+Lw8CW0bEP5R1H0Yx6LbVVTUfeFZEbMCS3VsrTGbeEhE/Br4WER+kaCk6nSLE2NIiLSNbWqQJKDN/SzHL5kCK2SwnUUyz/QnFFN5hihk0FwFXUkwxHs9JFONjrqCYhfRpnln3Tzf+i2IWznkUAWsu8N6xdiwH33Z6L0dTdMFcDVxG0WJ0Gk+15FxO8dncQDF9ulfeQ9GNdSnFZ3gXxewnScvIdVokSVIj2NIiSZIawTEtkvoiIk6mczfUaeWgYUkak6FFUr8cQ7FK7njm9qsQSc3kmBZJktQIjmmRJEmNYGiRJEmNYGiRJEmNYGiRJEmNYGiRJEmN8P8Bjhei6SP7KpYAAAAASUVORK5CYII=\n",
      "text/plain": [
       "<Figure size 648x360 with 1 Axes>"
      ]
     },
     "metadata": {
      "needs_background": "light"
     },
     "output_type": "display_data"
    }
   ],
   "source": [
    "plt.hist(heart_df[heart_df.DEATH_EVENT==1].serum_creatinine,bins=15)\n",
    "plt.xlabel('serum_creatinine')\n",
    "plt.ylabel('No.of deaths');\n"
   ]
  },
  {
   "cell_type": "markdown",
   "metadata": {},
   "source": [
    "Hence, low levels of creatinine in blood leads to death among the heart failures which is not that convencing since high levles of creatinine is a bigger risk. This might be due less no of patients with high creatinine level. For more clearity, let us plot a scatter plot below.\n",
    "The graph seems to be right-skewed as there are many low valued data points on the right side."
   ]
  },
  {
   "cell_type": "code",
   "execution_count": 30,
   "metadata": {},
   "outputs": [
    {
     "data": {
      "image/png": "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\n",
      "text/plain": [
       "<Figure size 648x360 with 1 Axes>"
      ]
     },
     "metadata": {
      "needs_background": "light"
     },
     "output_type": "display_data"
    }
   ],
   "source": [
    "plt.hist(heart_df[heart_df.DEATH_EVENT==1].age,bins=15)\n",
    "plt.xlabel('age')\n",
    "plt.ylabel('No.of deaths');"
   ]
  },
  {
   "cell_type": "markdown",
   "metadata": {},
   "source": [
    "The death_events among the heart failure patients is more among the age group of 60-70 years and least is among 80-90 years which is quit intresting. This strange result of less deaths among 80-90 year people might be due less no.of people who are heart patinets in this age group than among the age group of 60-70. "
   ]
  },
  {
   "cell_type": "code",
   "execution_count": null,
   "metadata": {},
   "outputs": [],
   "source": []
  },
  {
   "cell_type": "code",
   "execution_count": 31,
   "metadata": {},
   "outputs": [
    {
     "data": {
      "image/png": "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\n",
      "text/plain": [
       "<Figure size 648x360 with 1 Axes>"
      ]
     },
     "metadata": {
      "needs_background": "light"
     },
     "output_type": "display_data"
    }
   ],
   "source": [
    "sns.scatterplot('age', 'serum_sodium', hue='DEATH_EVENT', data=heart_df)\n",
    "plt.xlabel(\"Age\")\n",
    "plt.ylabel(\"Serum sodium level\");"
   ]
  },
  {
   "cell_type": "markdown",
   "metadata": {},
   "source": [
    "As you can see, more no.of deaths are in high sodium level region and patients with age >70 are mostly dead."
   ]
  },
  {
   "cell_type": "code",
   "execution_count": 32,
   "metadata": {},
   "outputs": [
    {
     "data": {
      "image/png": "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\n",
      "text/plain": [
       "<Figure size 648x360 with 1 Axes>"
      ]
     },
     "metadata": {
      "needs_background": "light"
     },
     "output_type": "display_data"
    }
   ],
   "source": [
    "sns.scatterplot('age', 'serum_creatinine', hue='DEATH_EVENT', data=heart_df)\n",
    "plt.xlabel(\"Age\")\n",
    "plt.ylabel(\"Serum creatinine level\");"
   ]
  },
  {
   "cell_type": "markdown",
   "metadata": {},
   "source": [
    "Most of the patients have very low creatinine level i.e., in the range of 2 to 4 and the patients with creatinine level more than 4 are mostly dead. There are less no.of people who died with low creatinine level than the no.of people who survived in this range."
   ]
  },
  {
   "cell_type": "code",
   "execution_count": 33,
   "metadata": {},
   "outputs": [],
   "source": [
    "import jovian"
   ]
  },
  {
   "cell_type": "code",
   "execution_count": null,
   "metadata": {},
   "outputs": [
    {
     "data": {
      "application/javascript": [
       "window.require && require([\"base/js/namespace\"],function(Jupyter){Jupyter.notebook.save_checkpoint()})"
      ],
      "text/plain": [
       "<IPython.core.display.Javascript object>"
      ]
     },
     "metadata": {},
     "output_type": "display_data"
    },
    {
     "name": "stdout",
     "output_type": "stream",
     "text": [
      "[jovian] Attempting to save notebook..\r\n"
     ]
    }
   ],
   "source": [
    "jovian.commit(files=['datasets_727551_1263738_heart_failure_clinical_records_dataset.csv'])"
   ]
  },
  {
   "cell_type": "markdown",
   "metadata": {},
   "source": [
    "## Asking and Answering Questions\n",
    "\n",
    "Asking and answering some intresting question regading the data set based on the above analysis."
   ]
  },
  {
   "cell_type": "markdown",
   "metadata": {},
   "source": [
    "### Q:1 From the barplot between serum_sodium and death_event, we got more number of deaths for 135 mEQ/L than for higher lavels. What could be the possible reason?"
   ]
  },
  {
   "cell_type": "code",
   "execution_count": null,
   "metadata": {},
   "outputs": [],
   "source": [
    "sodium_count=heart_df.serum_sodium.value_counts()\n",
    "sodium_count"
   ]
  },
  {
   "cell_type": "markdown",
   "metadata": {},
   "source": [
    "In theory, having high sodium level in blood is very dangerous and the risk increases with the level. But, here the results were quit surprising because there are more no.of patients with sodium level around 135 (110 patients) than the no.of patients more than 136 i.e., around 140 (only 32 patients)."
   ]
  },
  {
   "cell_type": "markdown",
   "metadata": {},
   "source": [
    "### Q:2 Is it ok to have high levels of sodium in blood for a heart patient?"
   ]
  },
  {
   "cell_type": "code",
   "execution_count": null,
   "metadata": {},
   "outputs": [],
   "source": [
    "avg_sodium=(heart_df.serum_sodium.sum())/299\n",
    "avg_sodium"
   ]
  },
  {
   "cell_type": "code",
   "execution_count": null,
   "metadata": {},
   "outputs": [],
   "source": [
    "# High levels of sodium means more than the average level.\n",
    "sodium_count_sum=heart_df[heart_df.serum_sodium>avg_sodium].serum_sodium.value_counts().sum()\n",
    "sodium_count_sum"
   ]
  },
  {
   "cell_type": "code",
   "execution_count": null,
   "metadata": {},
   "outputs": [],
   "source": [
    "l1=heart_df[heart_df.serum_sodium>avg_sodium]\n",
    "sodium_count_sum1= l1[l1.DEATH_EVENT==1].serum_sodium.value_counts().sum()\n",
    "sodium_count_sum1"
   ]
  },
  {
   "cell_type": "code",
   "execution_count": null,
   "metadata": {},
   "outputs": [],
   "source": [
    "total_death=heart_df[heart_df.DEATH_EVENT==1].DEATH_EVENT.sum()\n",
    "death_percent=(sodium_count_sum1/total_death)*100\n",
    "print(death_percent)\n",
    "print(total_death)"
   ]
  },
  {
   "cell_type": "code",
   "execution_count": null,
   "metadata": {},
   "outputs": [],
   "source": [
    "highsodium_percent=(sodium_count_sum/299)*100\n",
    "highsodium_percent"
   ]
  },
  {
   "cell_type": "markdown",
   "metadata": {},
   "source": [
    "Majority of the heart failure patients have high sodium levels so it is not ok to have high sodium levels in blood. But, in case if one has high levels of sodium and is a heart patient he might survive because only 38.5% patients are there with high sodium level among the patients who died and remaining deaths are not due to high levels of sodium. \n",
    "Also, the average level of sodium among heart failures is 136.6 which is in the range of normal sodium level for being healthy (135-145mEQ/L accosding to cardiologists.source:internet(link in the referene section))."
   ]
  },
  {
   "cell_type": "markdown",
   "metadata": {},
   "source": [
    "### Q:3 Up to what extant smoking is a cause for heart failure?"
   ]
  },
  {
   "cell_type": "code",
   "execution_count": null,
   "metadata": {},
   "outputs": [],
   "source": [
    "heart_df"
   ]
  },
  {
   "cell_type": "code",
   "execution_count": null,
   "metadata": {},
   "outputs": [],
   "source": [
    "smoker_count=heart_df.smoking.value_counts() \n",
    "smoker_count"
   ]
  },
  {
   "cell_type": "code",
   "execution_count": null,
   "metadata": {},
   "outputs": [],
   "source": [
    "smoke=['No','Yes']\n",
    "plt.figure(figsize=(12,6))\n",
    "plt.title('Percent of smokers vs non smokers')\n",
    "plt.pie(smoker_count, labels=smoke, autopct='%1.1f%%', startangle=90);"
   ]
  },
  {
   "cell_type": "markdown",
   "metadata": {},
   "source": [
    "Therefore, from the pie chart it is clear that smoking is not a major cause for heart failure as it is only 32.1% of smokers among heart failures in this prticular data set."
   ]
  },
  {
   "cell_type": "markdown",
   "metadata": {},
   "source": [
    "### Q:4 How dangerous it is for a heart patient to have high creatinine levels(>4mg/dL) in blood?"
   ]
  },
  {
   "cell_type": "code",
   "execution_count": null,
   "metadata": {},
   "outputs": [],
   "source": [
    "heart_df"
   ]
  },
  {
   "cell_type": "code",
   "execution_count": null,
   "metadata": {},
   "outputs": [],
   "source": [
    "creatinine_count=heart_df.serum_creatinine.value_counts()\n",
    "creatinine_count"
   ]
  },
  {
   "cell_type": "code",
   "execution_count": null,
   "metadata": {},
   "outputs": [],
   "source": [
    "# 4mg/dL is threshold creatininie limit in an average human being(source:wikipedia)\n",
    "creatinine_count1=heart_df[heart_df.serum_creatinine>4].serum_creatinine.value_counts().sum()\n",
    "creatinine_count1"
   ]
  },
  {
   "cell_type": "code",
   "execution_count": null,
   "metadata": {},
   "outputs": [],
   "source": [
    "l_2=heart_df[heart_df.serum_creatinine>4]\n",
    "creatinine_count2=l_2[l_2.DEATH_EVENT==1].serum_creatinine.value_counts().sum()\n",
    "creatinine_count2"
   ]
  },
  {
   "cell_type": "code",
   "execution_count": null,
   "metadata": {},
   "outputs": [],
   "source": [
    "creatinine_death_percent=(creatinine_count2/creatinine_count1)*100\n",
    "round(creatinine_death_percent,2)"
   ]
  },
  {
   "cell_type": "markdown",
   "metadata": {},
   "source": [
    "Hence, it is clear that having high creatinine levels will highly dangerous for a heart patient. It could easily cause death."
   ]
  },
  {
   "cell_type": "markdown",
   "metadata": {},
   "source": [
    "### Q:5 Who was able to survive more, males or females?"
   ]
  },
  {
   "cell_type": "code",
   "execution_count": null,
   "metadata": {},
   "outputs": [],
   "source": [
    "heart_df"
   ]
  },
  {
   "cell_type": "code",
   "execution_count": null,
   "metadata": {},
   "outputs": [],
   "source": [
    "\n",
    "plt.figure(figsize=(12,6))\n",
    "plt.title('Gender')\n",
    "plt.pie(sex_count, labels=gender, autopct='%1.1f%%', startangle=180);"
   ]
  },
  {
   "cell_type": "code",
   "execution_count": null,
   "metadata": {},
   "outputs": [],
   "source": [
    "# 1-male,0-female\n",
    "sex_count=heart_df.sex.value_counts()\n",
    "sex_count"
   ]
  },
  {
   "cell_type": "code",
   "execution_count": null,
   "metadata": {},
   "outputs": [],
   "source": [
    "male_df=heart_df[heart_df.sex==1]\n",
    "sex_count1=male_df[male_df.DEATH_EVENT==1].value_counts().sum()\n",
    "sex_count1"
   ]
  },
  {
   "cell_type": "code",
   "execution_count": null,
   "metadata": {},
   "outputs": [],
   "source": [
    "female_df=heart_df[heart_df.sex==0]\n",
    "sex_count0=female_df[female_df.DEATH_EVENT==1].value_counts().sum()\n",
    "sex_count0"
   ]
  },
  {
   "cell_type": "code",
   "execution_count": null,
   "metadata": {},
   "outputs": [],
   "source": [
    "male_death_percent=(sex_count1/194)*100\n",
    "round(male_death_percent,2)"
   ]
  },
  {
   "cell_type": "code",
   "execution_count": null,
   "metadata": {},
   "outputs": [],
   "source": [
    "female_death_percent=(sex_count0/105)*100\n",
    "round(female_death_percent,2)"
   ]
  },
  {
   "cell_type": "markdown",
   "metadata": {},
   "source": [
    "Famles (32.38%) have a greater risk of death than males (31.96%) due to heart failure."
   ]
  },
  {
   "cell_type": "markdown",
   "metadata": {},
   "source": [
    "### Q:6 What is the effect of ejection fraction on heart failures?"
   ]
  },
  {
   "cell_type": "code",
   "execution_count": null,
   "metadata": {},
   "outputs": [],
   "source": [
    "heart_df"
   ]
  },
  {
   "cell_type": "code",
   "execution_count": null,
   "metadata": {},
   "outputs": [],
   "source": [
    "plt.hist(heart_df.ejection_fraction);"
   ]
  },
  {
   "cell_type": "markdown",
   "metadata": {},
   "source": [
    "Most of the heart patients have ejection fraction around 35-40%"
   ]
  },
  {
   "cell_type": "code",
   "execution_count": null,
   "metadata": {},
   "outputs": [],
   "source": [
    "ejection_count=heart_df.ejection_fraction.value_counts()\n",
    "ejection_count"
   ]
  },
  {
   "cell_type": "code",
   "execution_count": null,
   "metadata": {},
   "outputs": [],
   "source": [
    "# finding average ejecrtion fraction for a heart failure\n",
    "avg_fraction=(heart_df.ejection_fraction.sum())/299\n",
    "round(avg_fraction,0)"
   ]
  },
  {
   "cell_type": "markdown",
   "metadata": {},
   "source": [
    "Therefore, average ejection fraction for a heart failure is 38%.\n",
    "Usaully an average human being has an ejection fraction of 55-75%. Ejection fraction being less than 50% is considered low.\n",
    "Here, the average is 38% which is very much less than 50% and the mode value is 35%. So, having a low ejection fration plays a major role in heart failure and it is very much important to bother about ejection fraction."
   ]
  },
  {
   "cell_type": "markdown",
   "metadata": {},
   "source": [
    "### Q:7 What could be the effect of ejection fraction on death events of  heart failures?"
   ]
  },
  {
   "cell_type": "code",
   "execution_count": null,
   "metadata": {},
   "outputs": [],
   "source": [
    "death_df=heart_df[heart_df.DEATH_EVENT==1]\n",
    "death_df"
   ]
  },
  {
   "cell_type": "code",
   "execution_count": null,
   "metadata": {},
   "outputs": [],
   "source": [
    "ejection_count1=death_df.ejection_fraction.value_counts()\n",
    "ejection_count1"
   ]
  },
  {
   "cell_type": "code",
   "execution_count": null,
   "metadata": {},
   "outputs": [],
   "source": [
    "plt.figure(figsize=(25,20))\n",
    "plt.title('Ejection_count percentage')\n",
    "plt.pie(ejection_count1,labels=ejection_count1.index,autopct='%1.1f%%', startangle=180);"
   ]
  },
  {
   "cell_type": "markdown",
   "metadata": {},
   "source": [
    "Ejection fractions of values 20%,25%,38% and 30% are the leading cuase for death among which having an ejection fraction of 20%,25% is even more dangerous.\n",
    "Low values like 14,14nd 17% are also extremely dangerous since patients with any of these ejection fractions will have the highhest risk of death."
   ]
  },
  {
   "cell_type": "code",
   "execution_count": null,
   "metadata": {},
   "outputs": [],
   "source": [
    "import jovian"
   ]
  },
  {
   "cell_type": "code",
   "execution_count": null,
   "metadata": {},
   "outputs": [],
   "source": [
    "jovian.commit(project=project_name)"
   ]
  },
  {
   "cell_type": "code",
   "execution_count": null,
   "metadata": {},
   "outputs": [],
   "source": []
  },
  {
   "cell_type": "markdown",
   "metadata": {},
   "source": [
    "## Inferences and Conclusion\n",
    "\n",
    "We have many inferences from the above analysis. Below is the summary of those inferences.\n",
    "\n",
    "- From the demographs, the major reasons for heart failure are ejection fraction, age, diabaties, serum creatinine, serum sodium, smoking habit and anaemia.\n",
    "- The two main causes for death are low ejection fraction and high creatinine level. Age is also one of the main reasons for deaths of heart patients as they don't have the stamina to with stand a surgery.\n",
    "- Total no.of deaths are less than the total no.of survivals among the 299 patients which means the hospitals are doing pretty good job in treating the cardiovascular diseases all over the world.\n",
    "- Women have a slightly greater risk of death compared to men.\n",
    "- We can infere that most of the deaths are occuring among the age group of 60-70 years. But, the percentage of deaths is greater among the people whoes age is greater than 80 which is quit natural.\n",
    "- We can also onseve that the people in the age group of 60-70 are more prone to heart failures becouse this is the age where all the side effects of all the stress and bad habits like smoking come out due to which many people are getting effected by cardiovascular diseases.\n",
    "- "
   ]
  },
  {
   "cell_type": "code",
   "execution_count": null,
   "metadata": {},
   "outputs": [],
   "source": [
    "import jovian"
   ]
  },
  {
   "cell_type": "code",
   "execution_count": null,
   "metadata": {},
   "outputs": [],
   "source": [
    "jovian.commit(project=project_name)"
   ]
  },
  {
   "cell_type": "markdown",
   "metadata": {},
   "source": [
    "## Predictive analysis\n",
    "To predict the death event"
   ]
  },
  {
   "cell_type": "code",
   "execution_count": null,
   "metadata": {},
   "outputs": [],
   "source": [
    "import pandas as pd \n",
    "import numpy as np\n",
    "import matplotlib.pyplot as plt\n",
    "%matplotlib inline"
   ]
  },
  {
   "cell_type": "code",
   "execution_count": null,
   "metadata": {},
   "outputs": [],
   "source": [
    "df=heart_df.copy()\n",
    "df.head()"
   ]
  },
  {
   "cell_type": "code",
   "execution_count": null,
   "metadata": {},
   "outputs": [],
   "source": [
    "df.shape"
   ]
  },
  {
   "cell_type": "code",
   "execution_count": null,
   "metadata": {},
   "outputs": [],
   "source": [
    "df.columns"
   ]
  },
  {
   "cell_type": "code",
   "execution_count": null,
   "metadata": {},
   "outputs": [],
   "source": [
    "df.dtypes"
   ]
  },
  {
   "cell_type": "code",
   "execution_count": null,
   "metadata": {},
   "outputs": [],
   "source": [
    "df.describe()"
   ]
  },
  {
   "cell_type": "code",
   "execution_count": null,
   "metadata": {},
   "outputs": [],
   "source": [
    "df.corr()"
   ]
  },
  {
   "cell_type": "code",
   "execution_count": null,
   "metadata": {},
   "outputs": [],
   "source": [
    "df['age'].plot.box()"
   ]
  },
  {
   "cell_type": "markdown",
   "metadata": {},
   "source": [
    "No out liers"
   ]
  },
  {
   "cell_type": "code",
   "execution_count": null,
   "metadata": {},
   "outputs": [],
   "source": [
    "df['serum_creatinine'].plot.box()"
   ]
  },
  {
   "cell_type": "markdown",
   "metadata": {},
   "source": [
    "Above 2 all the values are outliers"
   ]
  },
  {
   "cell_type": "code",
   "execution_count": null,
   "metadata": {},
   "outputs": [],
   "source": [
    "df['serum_sodium'].plot.box()"
   ]
  },
  {
   "cell_type": "markdown",
   "metadata": {},
   "source": [
    "4 values below 125 are outliers"
   ]
  },
  {
   "cell_type": "code",
   "execution_count": null,
   "metadata": {},
   "outputs": [],
   "source": [
    "df['ejection_fraction'].plot.box()"
   ]
  },
  {
   "cell_type": "markdown",
   "metadata": {},
   "source": [
    "70 and 80 the outliers"
   ]
  },
  {
   "cell_type": "code",
   "execution_count": null,
   "metadata": {},
   "outputs": [],
   "source": [
    "df['age'].corr(df['DEATH_EVENT'])"
   ]
  },
  {
   "cell_type": "markdown",
   "metadata": {},
   "source": [
    "## Catagorical - Continuous Bivariant Analysis"
   ]
  },
  {
   "cell_type": "code",
   "execution_count": null,
   "metadata": {},
   "outputs": [],
   "source": [
    "import scipy.stats as stats\n",
    "from scipy.stats import ttest_ind # 2t test"
   ]
  },
  {
   "cell_type": "code",
   "execution_count": null,
   "metadata": {
    "scrolled": false
   },
   "outputs": [],
   "source": [
    "males=df[df['sex']==1]\n",
    "males"
   ]
  },
  {
   "cell_type": "code",
   "execution_count": null,
   "metadata": {},
   "outputs": [],
   "source": [
    "females=df[df['sex']==0]"
   ]
  },
  {
   "cell_type": "code",
   "execution_count": null,
   "metadata": {},
   "outputs": [],
   "source": [
    "t_statistics,p_value=ttest_ind(males['DEATH_EVENT'],females['DEATH_EVENT'])\n",
    "print(p_value)"
   ]
  },
  {
   "cell_type": "markdown",
   "metadata": {},
   "source": [
    "p_value is greater than 0.05 so H0 is not rejected i.e., means are same."
   ]
  },
  {
   "cell_type": "markdown",
   "metadata": {},
   "source": [
    "## Catagorical - Catagorical Bivariant Analysis¶"
   ]
  },
  {
   "cell_type": "code",
   "execution_count": null,
   "metadata": {},
   "outputs": [],
   "source": [
    "df.head()"
   ]
  },
  {
   "cell_type": "code",
   "execution_count": null,
   "metadata": {},
   "outputs": [],
   "source": [
    "t=pd.crosstab(df['sex'],df['DEATH_EVENT'])\n",
    "t"
   ]
  },
  {
   "cell_type": "code",
   "execution_count": null,
   "metadata": {},
   "outputs": [],
   "source": [
    "from scipy.stats import chi2_contingency"
   ]
  },
  {
   "cell_type": "code",
   "execution_count": null,
   "metadata": {},
   "outputs": [],
   "source": [
    "chi2_contingency(t)"
   ]
  },
  {
   "cell_type": "code",
   "execution_count": null,
   "metadata": {},
   "outputs": [],
   "source": [
    "df.isnull().sum()"
   ]
  },
  {
   "cell_type": "markdown",
   "metadata": {},
   "source": [
    "# Outliers Treatment"
   ]
  },
  {
   "cell_type": "code",
   "execution_count": null,
   "metadata": {},
   "outputs": [],
   "source": [
    "df.head()"
   ]
  },
  {
   "cell_type": "code",
   "execution_count": null,
   "metadata": {},
   "outputs": [],
   "source": [
    "df.loc[df['serum_creatinine']>2,'serum_creatinine']=np.mean(df['serum_creatinine'])"
   ]
  },
  {
   "cell_type": "code",
   "execution_count": null,
   "metadata": {},
   "outputs": [],
   "source": [
    "df['serum_creatinine'].plot.box()"
   ]
  },
  {
   "cell_type": "code",
   "execution_count": null,
   "metadata": {},
   "outputs": [],
   "source": [
    "df.loc[df['serum_sodium']<125,'serum_sodium']=np.mean(df['serum_sodium'])"
   ]
  },
  {
   "cell_type": "code",
   "execution_count": null,
   "metadata": {},
   "outputs": [],
   "source": [
    "df['serum_sodium'].plot.box()"
   ]
  },
  {
   "cell_type": "code",
   "execution_count": null,
   "metadata": {},
   "outputs": [],
   "source": [
    "df.loc[df['ejection_fraction']>68,'ejection_fraction']=np.mean(df['ejection_fraction'])"
   ]
  },
  {
   "cell_type": "code",
   "execution_count": null,
   "metadata": {},
   "outputs": [],
   "source": [
    "df['ejection_fraction'].plot.box()"
   ]
  },
  {
   "cell_type": "code",
   "execution_count": null,
   "metadata": {},
   "outputs": [],
   "source": [
    "df['age'].plot.hist()"
   ]
  },
  {
   "cell_type": "code",
   "execution_count": null,
   "metadata": {},
   "outputs": [],
   "source": [
    "np.log(df['age']).plot.hist()"
   ]
  },
  {
   "cell_type": "code",
   "execution_count": null,
   "metadata": {},
   "outputs": [],
   "source": [
    "np.power(df['age'],1/2).plot.hist()"
   ]
  },
  {
   "cell_type": "code",
   "execution_count": null,
   "metadata": {},
   "outputs": [],
   "source": [
    "np.power(df['age'],1/4).plot.hist()"
   ]
  },
  {
   "cell_type": "code",
   "execution_count": null,
   "metadata": {},
   "outputs": [],
   "source": []
  },
  {
   "cell_type": "markdown",
   "metadata": {},
   "source": [
    "# Model Building"
   ]
  },
  {
   "cell_type": "code",
   "execution_count": null,
   "metadata": {},
   "outputs": [],
   "source": [
    "df.head()"
   ]
  },
  {
   "cell_type": "code",
   "execution_count": null,
   "metadata": {},
   "outputs": [],
   "source": [
    "df.shape"
   ]
  },
  {
   "cell_type": "code",
   "execution_count": null,
   "metadata": {},
   "outputs": [],
   "source": [
    "df=pd.get_dummies(df)"
   ]
  },
  {
   "cell_type": "code",
   "execution_count": null,
   "metadata": {},
   "outputs": [],
   "source": [
    "df.head()"
   ]
  },
  {
   "cell_type": "code",
   "execution_count": null,
   "metadata": {},
   "outputs": [],
   "source": [
    "train=df[0:150]"
   ]
  },
  {
   "cell_type": "code",
   "execution_count": null,
   "metadata": {},
   "outputs": [],
   "source": [
    "test=df[150:]"
   ]
  },
  {
   "cell_type": "code",
   "execution_count": null,
   "metadata": {},
   "outputs": [],
   "source": [
    "train"
   ]
  },
  {
   "cell_type": "code",
   "execution_count": null,
   "metadata": {},
   "outputs": [],
   "source": [
    "test"
   ]
  },
  {
   "cell_type": "code",
   "execution_count": null,
   "metadata": {},
   "outputs": [],
   "source": [
    "x_train=train.drop('DEATH_EVENT',axis=1)"
   ]
  },
  {
   "cell_type": "code",
   "execution_count": null,
   "metadata": {},
   "outputs": [],
   "source": [
    "y_train=train['DEATH_EVENT']"
   ]
  },
  {
   "cell_type": "code",
   "execution_count": null,
   "metadata": {},
   "outputs": [],
   "source": [
    "x_test=test.drop('DEATH_EVENT',axis=1)"
   ]
  },
  {
   "cell_type": "code",
   "execution_count": null,
   "metadata": {},
   "outputs": [],
   "source": [
    "y_test=test['DEATH_EVENT']"
   ]
  },
  {
   "cell_type": "code",
   "execution_count": null,
   "metadata": {},
   "outputs": [],
   "source": [
    "from sklearn.linear_model import LogisticRegression"
   ]
  },
  {
   "cell_type": "code",
   "execution_count": null,
   "metadata": {},
   "outputs": [],
   "source": [
    "logreg=LogisticRegression()"
   ]
  },
  {
   "cell_type": "code",
   "execution_count": null,
   "metadata": {},
   "outputs": [],
   "source": [
    "logreg.fit(x_train,y_train)"
   ]
  },
  {
   "cell_type": "code",
   "execution_count": null,
   "metadata": {},
   "outputs": [],
   "source": [
    "pred=logreg.predict(x_test)"
   ]
  },
  {
   "cell_type": "code",
   "execution_count": null,
   "metadata": {},
   "outputs": [],
   "source": [
    "pred"
   ]
  },
  {
   "cell_type": "code",
   "execution_count": null,
   "metadata": {},
   "outputs": [],
   "source": [
    "logreg.score(x_test,y_test)"
   ]
  },
  {
   "cell_type": "markdown",
   "metadata": {},
   "source": [
    "Fairly good predictions but still not the best because the score is less than 0.85"
   ]
  },
  {
   "cell_type": "code",
   "execution_count": null,
   "metadata": {},
   "outputs": [],
   "source": [
    "logreg.score(x_train,y_train)"
   ]
  },
  {
   "cell_type": "markdown",
   "metadata": {},
   "source": [
    "# Decision Trees"
   ]
  },
  {
   "cell_type": "code",
   "execution_count": null,
   "metadata": {},
   "outputs": [],
   "source": [
    "df.head()"
   ]
  },
  {
   "cell_type": "code",
   "execution_count": null,
   "metadata": {},
   "outputs": [],
   "source": [
    "x=df.drop('DEATH_EVENT',axis=1)"
   ]
  },
  {
   "cell_type": "code",
   "execution_count": null,
   "metadata": {},
   "outputs": [],
   "source": [
    "y=df['DEATH_EVENT']"
   ]
  },
  {
   "cell_type": "code",
   "execution_count": null,
   "metadata": {},
   "outputs": [],
   "source": [
    "from sklearn.model_selection import train_test_split"
   ]
  },
  {
   "cell_type": "code",
   "execution_count": null,
   "metadata": {},
   "outputs": [],
   "source": [
    "train_x,test_x,train_y,test_y = train_test_split(x,y,random_state=101,stratify = y)"
   ]
  },
  {
   "cell_type": "code",
   "execution_count": null,
   "metadata": {},
   "outputs": [],
   "source": [
    "train_y.value_counts()/len(train_y)"
   ]
  },
  {
   "cell_type": "code",
   "execution_count": null,
   "metadata": {},
   "outputs": [],
   "source": [
    "test_y.value_counts()/len(test_y)"
   ]
  },
  {
   "cell_type": "code",
   "execution_count": null,
   "metadata": {},
   "outputs": [],
   "source": [
    "from sklearn.tree import DecisionTreeClassifier"
   ]
  },
  {
   "cell_type": "code",
   "execution_count": null,
   "metadata": {},
   "outputs": [],
   "source": [
    "clf=DecisionTreeClassifier()"
   ]
  },
  {
   "cell_type": "code",
   "execution_count": null,
   "metadata": {},
   "outputs": [],
   "source": [
    "clf.fit(train_x,train_y)"
   ]
  },
  {
   "cell_type": "code",
   "execution_count": null,
   "metadata": {},
   "outputs": [],
   "source": [
    "clf.score(train_x,train_y)"
   ]
  },
  {
   "cell_type": "code",
   "execution_count": null,
   "metadata": {},
   "outputs": [],
   "source": [
    "clf.score(test_x,test_y)"
   ]
  },
  {
   "cell_type": "code",
   "execution_count": null,
   "metadata": {},
   "outputs": [],
   "source": [
    "train_y"
   ]
  },
  {
   "cell_type": "code",
   "execution_count": null,
   "metadata": {},
   "outputs": [],
   "source": [
    "pred=clf.predict(test_x)\n",
    "pred"
   ]
  },
  {
   "cell_type": "code",
   "execution_count": null,
   "metadata": {},
   "outputs": [],
   "source": [
    "clf.score(test_x,test_y)"
   ]
  },
  {
   "cell_type": "markdown",
   "metadata": {},
   "source": [
    "Logistic regression is a better model compared to decision tree"
   ]
  },
  {
   "cell_type": "code",
   "execution_count": null,
   "metadata": {},
   "outputs": [],
   "source": []
  }
 ],
 "metadata": {
  "language_info": {
   "codemirror_mode": {
    "name": "ipython",
    "version": 3
   },
   "file_extension": ".py",
   "mimetype": "text/x-python",
   "name": "python",
   "nbconvert_exporter": "python",
   "pygments_lexer": "ipython3",
   "version": "3.7.4"
  }
 },
 "nbformat": 4,
 "nbformat_minor": 4
}
